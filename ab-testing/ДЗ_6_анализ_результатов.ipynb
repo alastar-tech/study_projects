{
 "cells": [
  {
   "cell_type": "code",
   "execution_count": 1,
   "metadata": {
    "executionInfo": {
     "elapsed": 1182,
     "status": "ok",
     "timestamp": 1671980866990,
     "user": {
      "displayName": "Александр Бундыч",
      "userId": "11932459224027420021"
     },
     "user_tz": -180
    },
    "id": "qs1RT_QzoO9p"
   },
   "outputs": [],
   "source": [
    "import pandas as pd\n",
    "import seaborn as sns\n",
    "from scipy.stats import ttest_ind\n",
    "import seaborn as sns\n",
    "import matplotlib.pyplot as plt"
   ]
  },
  {
   "cell_type": "code",
   "execution_count": 2,
   "metadata": {
    "colab": {
     "base_uri": "https://localhost:8080/",
     "height": 536
    },
    "executionInfo": {
     "elapsed": 1068,
     "status": "ok",
     "timestamp": 1671980868056,
     "user": {
      "displayName": "Александр Бундыч",
      "userId": "11932459224027420021"
     },
     "user_tz": -180
    },
    "id": "wh2kaRg_pAgU",
    "outputId": "4a831761-6c7e-4dfa-ffdb-06a1695ae000"
   },
   "outputs": [
    {
     "name": "stdout",
     "output_type": "stream",
     "text": [
      "<class 'pandas.core.frame.DataFrame'>\n",
      "RangeIndex: 101500 entries, 0 to 101499\n",
      "Data columns (total 11 columns):\n",
      " #   Column             Non-Null Count   Dtype         \n",
      "---  ------             --------------   -----         \n",
      " 0   user_id            101500 non-null  int64         \n",
      " 1   date               101500 non-null  datetime64[ns]\n",
      " 2   app_opened         101500 non-null  int64         \n",
      " 3   group              101500 non-null  object        \n",
      " 4   price_seen         101500 non-null  int64         \n",
      " 5   order_made         101500 non-null  int64         \n",
      " 6   surge              92358 non-null   object        \n",
      " 7   os                 101500 non-null  object        \n",
      " 8   user_cancelled     70157 non-null   float64       \n",
      " 9   city_center_order  70157 non-null   float64       \n",
      " 10  groups             101500 non-null  object        \n",
      "dtypes: datetime64[ns](1), float64(2), int64(4), object(4)\n",
      "memory usage: 8.5+ MB\n",
      "None\n"
     ]
    },
    {
     "data": {
      "text/html": [
       "\n",
       "  <div id=\"df-6aa069b4-9e1a-4419-a276-136983bfd185\">\n",
       "    <div class=\"colab-df-container\">\n",
       "      <div>\n",
       "<style scoped>\n",
       "    .dataframe tbody tr th:only-of-type {\n",
       "        vertical-align: middle;\n",
       "    }\n",
       "\n",
       "    .dataframe tbody tr th {\n",
       "        vertical-align: top;\n",
       "    }\n",
       "\n",
       "    .dataframe thead th {\n",
       "        text-align: right;\n",
       "    }\n",
       "</style>\n",
       "<table border=\"1\" class=\"dataframe\">\n",
       "  <thead>\n",
       "    <tr style=\"text-align: right;\">\n",
       "      <th></th>\n",
       "      <th>user_id</th>\n",
       "      <th>date</th>\n",
       "      <th>app_opened</th>\n",
       "      <th>group</th>\n",
       "      <th>price_seen</th>\n",
       "      <th>order_made</th>\n",
       "      <th>surge</th>\n",
       "      <th>os</th>\n",
       "      <th>user_cancelled</th>\n",
       "      <th>city_center_order</th>\n",
       "      <th>groups</th>\n",
       "    </tr>\n",
       "  </thead>\n",
       "  <tbody>\n",
       "    <tr>\n",
       "      <th>0</th>\n",
       "      <td>867689</td>\n",
       "      <td>2020-05-28</td>\n",
       "      <td>1</td>\n",
       "      <td>Control</td>\n",
       "      <td>1</td>\n",
       "      <td>1</td>\n",
       "      <td>no surge</td>\n",
       "      <td>Android</td>\n",
       "      <td>0.0</td>\n",
       "      <td>1.0</td>\n",
       "      <td>Control</td>\n",
       "    </tr>\n",
       "    <tr>\n",
       "      <th>1</th>\n",
       "      <td>867689</td>\n",
       "      <td>2020-05-29</td>\n",
       "      <td>1</td>\n",
       "      <td>Control</td>\n",
       "      <td>1</td>\n",
       "      <td>0</td>\n",
       "      <td>surge</td>\n",
       "      <td>iOS</td>\n",
       "      <td>NaN</td>\n",
       "      <td>NaN</td>\n",
       "      <td>Control</td>\n",
       "    </tr>\n",
       "    <tr>\n",
       "      <th>2</th>\n",
       "      <td>867689</td>\n",
       "      <td>2020-05-25</td>\n",
       "      <td>1</td>\n",
       "      <td>Control</td>\n",
       "      <td>1</td>\n",
       "      <td>1</td>\n",
       "      <td>surge</td>\n",
       "      <td>Android</td>\n",
       "      <td>0.0</td>\n",
       "      <td>0.0</td>\n",
       "      <td>Control</td>\n",
       "    </tr>\n",
       "    <tr>\n",
       "      <th>3</th>\n",
       "      <td>752172</td>\n",
       "      <td>2020-05-29</td>\n",
       "      <td>1</td>\n",
       "      <td>Control</td>\n",
       "      <td>1</td>\n",
       "      <td>1</td>\n",
       "      <td>surge</td>\n",
       "      <td>Android</td>\n",
       "      <td>0.0</td>\n",
       "      <td>1.0</td>\n",
       "      <td>Control</td>\n",
       "    </tr>\n",
       "    <tr>\n",
       "      <th>4</th>\n",
       "      <td>752172</td>\n",
       "      <td>2020-05-28</td>\n",
       "      <td>1</td>\n",
       "      <td>Control</td>\n",
       "      <td>1</td>\n",
       "      <td>1</td>\n",
       "      <td>no surge</td>\n",
       "      <td>iOS</td>\n",
       "      <td>0.0</td>\n",
       "      <td>0.0</td>\n",
       "      <td>Control</td>\n",
       "    </tr>\n",
       "  </tbody>\n",
       "</table>\n",
       "</div>\n",
       "      <button class=\"colab-df-convert\" onclick=\"convertToInteractive('df-6aa069b4-9e1a-4419-a276-136983bfd185')\"\n",
       "              title=\"Convert this dataframe to an interactive table.\"\n",
       "              style=\"display:none;\">\n",
       "        \n",
       "  <svg xmlns=\"http://www.w3.org/2000/svg\" height=\"24px\"viewBox=\"0 0 24 24\"\n",
       "       width=\"24px\">\n",
       "    <path d=\"M0 0h24v24H0V0z\" fill=\"none\"/>\n",
       "    <path d=\"M18.56 5.44l.94 2.06.94-2.06 2.06-.94-2.06-.94-.94-2.06-.94 2.06-2.06.94zm-11 1L8.5 8.5l.94-2.06 2.06-.94-2.06-.94L8.5 2.5l-.94 2.06-2.06.94zm10 10l.94 2.06.94-2.06 2.06-.94-2.06-.94-.94-2.06-.94 2.06-2.06.94z\"/><path d=\"M17.41 7.96l-1.37-1.37c-.4-.4-.92-.59-1.43-.59-.52 0-1.04.2-1.43.59L10.3 9.45l-7.72 7.72c-.78.78-.78 2.05 0 2.83L4 21.41c.39.39.9.59 1.41.59.51 0 1.02-.2 1.41-.59l7.78-7.78 2.81-2.81c.8-.78.8-2.07 0-2.86zM5.41 20L4 18.59l7.72-7.72 1.47 1.35L5.41 20z\"/>\n",
       "  </svg>\n",
       "      </button>\n",
       "      \n",
       "  <style>\n",
       "    .colab-df-container {\n",
       "      display:flex;\n",
       "      flex-wrap:wrap;\n",
       "      gap: 12px;\n",
       "    }\n",
       "\n",
       "    .colab-df-convert {\n",
       "      background-color: #E8F0FE;\n",
       "      border: none;\n",
       "      border-radius: 50%;\n",
       "      cursor: pointer;\n",
       "      display: none;\n",
       "      fill: #1967D2;\n",
       "      height: 32px;\n",
       "      padding: 0 0 0 0;\n",
       "      width: 32px;\n",
       "    }\n",
       "\n",
       "    .colab-df-convert:hover {\n",
       "      background-color: #E2EBFA;\n",
       "      box-shadow: 0px 1px 2px rgba(60, 64, 67, 0.3), 0px 1px 3px 1px rgba(60, 64, 67, 0.15);\n",
       "      fill: #174EA6;\n",
       "    }\n",
       "\n",
       "    [theme=dark] .colab-df-convert {\n",
       "      background-color: #3B4455;\n",
       "      fill: #D2E3FC;\n",
       "    }\n",
       "\n",
       "    [theme=dark] .colab-df-convert:hover {\n",
       "      background-color: #434B5C;\n",
       "      box-shadow: 0px 1px 3px 1px rgba(0, 0, 0, 0.15);\n",
       "      filter: drop-shadow(0px 1px 2px rgba(0, 0, 0, 0.3));\n",
       "      fill: #FFFFFF;\n",
       "    }\n",
       "  </style>\n",
       "\n",
       "      <script>\n",
       "        const buttonEl =\n",
       "          document.querySelector('#df-6aa069b4-9e1a-4419-a276-136983bfd185 button.colab-df-convert');\n",
       "        buttonEl.style.display =\n",
       "          google.colab.kernel.accessAllowed ? 'block' : 'none';\n",
       "\n",
       "        async function convertToInteractive(key) {\n",
       "          const element = document.querySelector('#df-6aa069b4-9e1a-4419-a276-136983bfd185');\n",
       "          const dataTable =\n",
       "            await google.colab.kernel.invokeFunction('convertToInteractive',\n",
       "                                                     [key], {});\n",
       "          if (!dataTable) return;\n",
       "\n",
       "          const docLinkHtml = 'Like what you see? Visit the ' +\n",
       "            '<a target=\"_blank\" href=https://colab.research.google.com/notebooks/data_table.ipynb>data table notebook</a>'\n",
       "            + ' to learn more about interactive tables.';\n",
       "          element.innerHTML = '';\n",
       "          dataTable['output_type'] = 'display_data';\n",
       "          await google.colab.output.renderOutput(dataTable, element);\n",
       "          const docLink = document.createElement('div');\n",
       "          docLink.innerHTML = docLinkHtml;\n",
       "          element.appendChild(docLink);\n",
       "        }\n",
       "      </script>\n",
       "    </div>\n",
       "  </div>\n",
       "  "
      ],
      "text/plain": [
       "   user_id       date  app_opened    group  price_seen  order_made     surge  \\\n",
       "0   867689 2020-05-28           1  Control           1           1  no surge   \n",
       "1   867689 2020-05-29           1  Control           1           0     surge   \n",
       "2   867689 2020-05-25           1  Control           1           1     surge   \n",
       "3   752172 2020-05-29           1  Control           1           1     surge   \n",
       "4   752172 2020-05-28           1  Control           1           1  no surge   \n",
       "\n",
       "        os  user_cancelled  city_center_order   groups  \n",
       "0  Android             0.0                1.0  Control  \n",
       "1      iOS             NaN                NaN  Control  \n",
       "2  Android             0.0                0.0  Control  \n",
       "3  Android             0.0                1.0  Control  \n",
       "4      iOS             0.0                0.0  Control  "
      ]
     },
     "execution_count": 2,
     "metadata": {},
     "output_type": "execute_result"
    }
   ],
   "source": [
    "data = pd.read_csv('post_abtest_data.csv', parse_dates=['date'])\n",
    "print(data.info())\n",
    "data.head()"
   ]
  },
  {
   "cell_type": "code",
   "execution_count": 3,
   "metadata": {
    "colab": {
     "base_uri": "https://localhost:8080/"
    },
    "executionInfo": {
     "elapsed": 17,
     "status": "ok",
     "timestamp": 1671980868057,
     "user": {
      "displayName": "Александр Бундыч",
      "userId": "11932459224027420021"
     },
     "user_tz": -180
    },
    "id": "5wojsPCQ3vIv",
    "outputId": "0b114116-1d24-4f16-d59b-0a0db097860b"
   },
   "outputs": [
    {
     "data": {
      "text/plain": [
       "867689    1\n",
       "382672    1\n",
       "139455    1\n",
       "416988    1\n",
       "682337    1\n",
       "         ..\n",
       "340213    1\n",
       "352605    1\n",
       "216082    1\n",
       "777242    1\n",
       "811817    1\n",
       "Name: user_id, Length: 24224, dtype: int64"
      ]
     },
     "execution_count": 3,
     "metadata": {},
     "output_type": "execute_result"
    }
   ],
   "source": [
    "#проверим вхождение одного user_id и в Test и в Control\n",
    "df_check = data[['user_id', 'group']]\n",
    "df_check_no_dupl = df_check.drop_duplicates()\n",
    "df_check_no_dupl.user_id.value_counts().sort_values(ascending=False)\n",
    "\n",
    "#одновременных вхождений в тест и контрол нет"
   ]
  },
  {
   "cell_type": "markdown",
   "metadata": {
    "id": "I7eN-cBNrJ4r"
   },
   "source": [
    "Гипотеза: Если мы понизим коэффициент \"surge\" в период повышенного спроса, то конверсия price-to-order в этот период возрастет."
   ]
  },
  {
   "cell_type": "code",
   "execution_count": 4,
   "metadata": {
    "colab": {
     "base_uri": "https://localhost:8080/"
    },
    "executionInfo": {
     "elapsed": 16,
     "status": "ok",
     "timestamp": 1671980868058,
     "user": {
      "displayName": "Александр Бундыч",
      "userId": "11932459224027420021"
     },
     "user_tz": -180
    },
    "id": "vmnAaQ0vpLyu",
    "outputId": "5b82fcb1-e4c0-4d44-f009-b3beda859a52"
   },
   "outputs": [
    {
     "name": "stdout",
     "output_type": "stream",
     "text": [
      "<class 'pandas.core.frame.DataFrame'>\n",
      "Int64Index: 28752 entries, 1 to 101498\n",
      "Data columns (total 6 columns):\n",
      " #   Column      Non-Null Count  Dtype         \n",
      "---  ------      --------------  -----         \n",
      " 0   user_id     28752 non-null  int64         \n",
      " 1   date        28752 non-null  datetime64[ns]\n",
      " 2   group       28752 non-null  object        \n",
      " 3   price_seen  28752 non-null  int64         \n",
      " 4   order_made  28752 non-null  int64         \n",
      " 5   surge       28752 non-null  object        \n",
      "dtypes: datetime64[ns](1), int64(3), object(2)\n",
      "memory usage: 1.5+ MB\n",
      "None\n"
     ]
    },
    {
     "data": {
      "text/plain": [
       "1    surge\n",
       "2    surge\n",
       "3    surge\n",
       "5    surge\n",
       "8    surge\n",
       "Name: surge, dtype: object"
      ]
     },
     "execution_count": 4,
     "metadata": {},
     "output_type": "execute_result"
    }
   ],
   "source": [
    "#фильтруем данные по признаку \"surge\" и \"показу цены\"\n",
    "data_surge = data.query(\"surge == 'surge' and price_seen == 1\")\n",
    "\n",
    "#удалим лишние столбцы\n",
    "data_surge = data_surge.drop(columns={'app_opened','os', 'user_cancelled', 'city_center_order', 'groups'})\n",
    "print(data_surge.info())\n",
    "data_surge.surge.head()"
   ]
  },
  {
   "cell_type": "code",
   "execution_count": 5,
   "metadata": {
    "colab": {
     "base_uri": "https://localhost:8080/",
     "height": 206
    },
    "executionInfo": {
     "elapsed": 14,
     "status": "ok",
     "timestamp": 1671980868058,
     "user": {
      "displayName": "Александр Бундыч",
      "userId": "11932459224027420021"
     },
     "user_tz": -180
    },
    "id": "lrbbQl_5uLEi",
    "outputId": "eecf74ea-1604-4a51-98cf-c0c5b9865d9a"
   },
   "outputs": [
    {
     "data": {
      "text/html": [
       "\n",
       "  <div id=\"df-3d6266b2-7fd3-43cc-b10a-1fa651dbb85b\">\n",
       "    <div class=\"colab-df-container\">\n",
       "      <div>\n",
       "<style scoped>\n",
       "    .dataframe tbody tr th:only-of-type {\n",
       "        vertical-align: middle;\n",
       "    }\n",
       "\n",
       "    .dataframe tbody tr th {\n",
       "        vertical-align: top;\n",
       "    }\n",
       "\n",
       "    .dataframe thead th {\n",
       "        text-align: right;\n",
       "    }\n",
       "</style>\n",
       "<table border=\"1\" class=\"dataframe\">\n",
       "  <thead>\n",
       "    <tr style=\"text-align: right;\">\n",
       "      <th></th>\n",
       "      <th>user_id</th>\n",
       "      <th>date</th>\n",
       "      <th>group</th>\n",
       "      <th>price_seen</th>\n",
       "      <th>order_made</th>\n",
       "      <th>surge</th>\n",
       "      <th>day_number</th>\n",
       "    </tr>\n",
       "  </thead>\n",
       "  <tbody>\n",
       "    <tr>\n",
       "      <th>1</th>\n",
       "      <td>867689</td>\n",
       "      <td>2020-05-29</td>\n",
       "      <td>Control</td>\n",
       "      <td>1</td>\n",
       "      <td>0</td>\n",
       "      <td>surge</td>\n",
       "      <td>5</td>\n",
       "    </tr>\n",
       "    <tr>\n",
       "      <th>2</th>\n",
       "      <td>867689</td>\n",
       "      <td>2020-05-25</td>\n",
       "      <td>Control</td>\n",
       "      <td>1</td>\n",
       "      <td>1</td>\n",
       "      <td>surge</td>\n",
       "      <td>1</td>\n",
       "    </tr>\n",
       "    <tr>\n",
       "      <th>3</th>\n",
       "      <td>752172</td>\n",
       "      <td>2020-05-29</td>\n",
       "      <td>Control</td>\n",
       "      <td>1</td>\n",
       "      <td>1</td>\n",
       "      <td>surge</td>\n",
       "      <td>5</td>\n",
       "    </tr>\n",
       "    <tr>\n",
       "      <th>5</th>\n",
       "      <td>486559</td>\n",
       "      <td>2020-05-25</td>\n",
       "      <td>Control</td>\n",
       "      <td>1</td>\n",
       "      <td>0</td>\n",
       "      <td>surge</td>\n",
       "      <td>1</td>\n",
       "    </tr>\n",
       "    <tr>\n",
       "      <th>8</th>\n",
       "      <td>486559</td>\n",
       "      <td>2020-05-28</td>\n",
       "      <td>Control</td>\n",
       "      <td>1</td>\n",
       "      <td>0</td>\n",
       "      <td>surge</td>\n",
       "      <td>4</td>\n",
       "    </tr>\n",
       "  </tbody>\n",
       "</table>\n",
       "</div>\n",
       "      <button class=\"colab-df-convert\" onclick=\"convertToInteractive('df-3d6266b2-7fd3-43cc-b10a-1fa651dbb85b')\"\n",
       "              title=\"Convert this dataframe to an interactive table.\"\n",
       "              style=\"display:none;\">\n",
       "        \n",
       "  <svg xmlns=\"http://www.w3.org/2000/svg\" height=\"24px\"viewBox=\"0 0 24 24\"\n",
       "       width=\"24px\">\n",
       "    <path d=\"M0 0h24v24H0V0z\" fill=\"none\"/>\n",
       "    <path d=\"M18.56 5.44l.94 2.06.94-2.06 2.06-.94-2.06-.94-.94-2.06-.94 2.06-2.06.94zm-11 1L8.5 8.5l.94-2.06 2.06-.94-2.06-.94L8.5 2.5l-.94 2.06-2.06.94zm10 10l.94 2.06.94-2.06 2.06-.94-2.06-.94-.94-2.06-.94 2.06-2.06.94z\"/><path d=\"M17.41 7.96l-1.37-1.37c-.4-.4-.92-.59-1.43-.59-.52 0-1.04.2-1.43.59L10.3 9.45l-7.72 7.72c-.78.78-.78 2.05 0 2.83L4 21.41c.39.39.9.59 1.41.59.51 0 1.02-.2 1.41-.59l7.78-7.78 2.81-2.81c.8-.78.8-2.07 0-2.86zM5.41 20L4 18.59l7.72-7.72 1.47 1.35L5.41 20z\"/>\n",
       "  </svg>\n",
       "      </button>\n",
       "      \n",
       "  <style>\n",
       "    .colab-df-container {\n",
       "      display:flex;\n",
       "      flex-wrap:wrap;\n",
       "      gap: 12px;\n",
       "    }\n",
       "\n",
       "    .colab-df-convert {\n",
       "      background-color: #E8F0FE;\n",
       "      border: none;\n",
       "      border-radius: 50%;\n",
       "      cursor: pointer;\n",
       "      display: none;\n",
       "      fill: #1967D2;\n",
       "      height: 32px;\n",
       "      padding: 0 0 0 0;\n",
       "      width: 32px;\n",
       "    }\n",
       "\n",
       "    .colab-df-convert:hover {\n",
       "      background-color: #E2EBFA;\n",
       "      box-shadow: 0px 1px 2px rgba(60, 64, 67, 0.3), 0px 1px 3px 1px rgba(60, 64, 67, 0.15);\n",
       "      fill: #174EA6;\n",
       "    }\n",
       "\n",
       "    [theme=dark] .colab-df-convert {\n",
       "      background-color: #3B4455;\n",
       "      fill: #D2E3FC;\n",
       "    }\n",
       "\n",
       "    [theme=dark] .colab-df-convert:hover {\n",
       "      background-color: #434B5C;\n",
       "      box-shadow: 0px 1px 3px 1px rgba(0, 0, 0, 0.15);\n",
       "      filter: drop-shadow(0px 1px 2px rgba(0, 0, 0, 0.3));\n",
       "      fill: #FFFFFF;\n",
       "    }\n",
       "  </style>\n",
       "\n",
       "      <script>\n",
       "        const buttonEl =\n",
       "          document.querySelector('#df-3d6266b2-7fd3-43cc-b10a-1fa651dbb85b button.colab-df-convert');\n",
       "        buttonEl.style.display =\n",
       "          google.colab.kernel.accessAllowed ? 'block' : 'none';\n",
       "\n",
       "        async function convertToInteractive(key) {\n",
       "          const element = document.querySelector('#df-3d6266b2-7fd3-43cc-b10a-1fa651dbb85b');\n",
       "          const dataTable =\n",
       "            await google.colab.kernel.invokeFunction('convertToInteractive',\n",
       "                                                     [key], {});\n",
       "          if (!dataTable) return;\n",
       "\n",
       "          const docLinkHtml = 'Like what you see? Visit the ' +\n",
       "            '<a target=\"_blank\" href=https://colab.research.google.com/notebooks/data_table.ipynb>data table notebook</a>'\n",
       "            + ' to learn more about interactive tables.';\n",
       "          element.innerHTML = '';\n",
       "          dataTable['output_type'] = 'display_data';\n",
       "          await google.colab.output.renderOutput(dataTable, element);\n",
       "          const docLink = document.createElement('div');\n",
       "          docLink.innerHTML = docLinkHtml;\n",
       "          element.appendChild(docLink);\n",
       "        }\n",
       "      </script>\n",
       "    </div>\n",
       "  </div>\n",
       "  "
      ],
      "text/plain": [
       "   user_id       date    group  price_seen  order_made  surge  day_number\n",
       "1   867689 2020-05-29  Control           1           0  surge           5\n",
       "2   867689 2020-05-25  Control           1           1  surge           1\n",
       "3   752172 2020-05-29  Control           1           1  surge           5\n",
       "5   486559 2020-05-25  Control           1           0  surge           1\n",
       "8   486559 2020-05-28  Control           1           0  surge           4"
      ]
     },
     "execution_count": 5,
     "metadata": {},
     "output_type": "execute_result"
    }
   ],
   "source": [
    "#разбиваем выборку на 7 частей по дате\n",
    "labels=['1', '2','3', '4', '5', '6', '7']\n",
    "\n",
    "data_surge['day_number'] = pd.cut(data_surge['date'], bins=7 , labels=labels)\n",
    "data_surge['day_number'] = data_surge['day_number'].astype('int') #преобразовали столбец категорий в int-тип\n",
    "data_surge.head()"
   ]
  },
  {
   "cell_type": "code",
   "execution_count": 6,
   "metadata": {
    "executionInfo": {
     "elapsed": 15,
     "status": "ok",
     "timestamp": 1671980868059,
     "user": {
      "displayName": "Александр Бундыч",
      "userId": "11932459224027420021"
     },
     "user_tz": -180
    },
    "id": "h4OPiA9JlEGa"
   },
   "outputs": [],
   "source": [
    "#функция проведения t-теста по дням\n",
    "def test_by_day(df, day_num, alpha=0.05):\n",
    "  \n",
    "  global p_value_1 #чтобы вывести p_value в список для дальнейшего построения графика\n",
    "  day_1 = df.query(\"day_number == @day_num\")\n",
    "\n",
    "  #находим конверсию по каждому пользователю (получим user_id без повторений)\n",
    "  day_1_by_user = day_1.groupby('user_id', as_index=False) \\\n",
    "                              .agg({'price_seen':'sum', \\\n",
    "                                    'order_made':'sum', \\\n",
    "                                    'group'     :'max'})\n",
    "  day_1_by_user['price_to_order_conv'] = round(day_1_by_user.order_made / day_1_by_user.price_seen, 2) *100\n",
    "\n",
    "  #разделяем на 2 группы\n",
    "  group_0 = day_1_by_user.query(\"group == 'Control'\")\n",
    "  group_1 = day_1_by_user.query(\"group == 'Test'\")\n",
    "\n",
    "\n",
    "  #выводим хорактеристики выборок\n",
    "  print('кол-во наблюдений в group_control =', len(group_0))\n",
    "  print('кол-во наблюдений в group_test =', len(group_1))\n",
    "  print('общее кол-во наблюдений =', len(group_1) + len(group_0)) #проверка что никто не потерялся\n",
    "  print('средняя поюзерная конверсия (контрольная группа) =', round(group_0.price_to_order_conv.mean(),2))\n",
    "  print('средняя поюзерная конверсия (тестовая группа) =', round(group_1.price_to_order_conv.mean(),2))\n",
    "\n",
    "  #проводим t-test\n",
    "  t = ttest_ind(group_0['price_to_order_conv'], group_1['price_to_order_conv'])\n",
    "  p_value_1 = t.pvalue\n",
    "  print('p-value =', round(p_value_1, 3))\n",
    "  print()\n",
    "  \n",
    "  if t.pvalue > alpha:\n",
    "    print(f'p-value {round(t.pvalue, 2)} > alpha {round(alpha, 2)}\\nПринимаем H_0 - средние выборок РАВНЫ.\\nЗначимых изменений нет.')\n",
    "  else:\n",
    "    print(f'p-value {round(t.pvalue, 2)} < alpha {round(alpha, 2)}\\nОтклоняем H_0 - средние выборок НЕ РАВНЫ\\nНаблюдается значимое изменение.')\n",
    "\n",
    "  print('________________________________________________________________________')\n",
    " "
   ]
  },
  {
   "cell_type": "code",
   "execution_count": 7,
   "metadata": {
    "colab": {
     "base_uri": "https://localhost:8080/"
    },
    "executionInfo": {
     "elapsed": 2723,
     "status": "ok",
     "timestamp": 1671980870768,
     "user": {
      "displayName": "Александр Бундыч",
      "userId": "11932459224027420021"
     },
     "user_tz": -180
    },
    "id": "rRaJLhB5m_kJ",
    "outputId": "e71ff740-3587-40d8-b43f-fcdadc254c01"
   },
   "outputs": [
    {
     "name": "stdout",
     "output_type": "stream",
     "text": [
      "--- t-test 1го дня ---\n",
      "кол-во наблюдений в group_control = 1867\n",
      "кол-во наблюдений в group_test = 1916\n",
      "общее кол-во наблюдений = 3783\n",
      "средняя поюзерная конверсия (контрольная группа) = 58.48\n",
      "средняя поюзерная конверсия (тестовая группа) = 63.6\n",
      "p-value = 0.001\n",
      "\n",
      "p-value 0.0 < alpha 0.05\n",
      "Отклоняем H_0 - средние выборок НЕ РАВНЫ\n",
      "Наблюдается значимое изменение.\n",
      "________________________________________________________________________\n",
      "\n",
      "--- t-test 2го дня ---\n",
      "кол-во наблюдений в group_control = 1876\n",
      "кол-во наблюдений в group_test = 1871\n",
      "общее кол-во наблюдений = 3747\n",
      "средняя поюзерная конверсия (контрольная группа) = 62.0\n",
      "средняя поюзерная конверсия (тестовая группа) = 61.48\n",
      "p-value = 0.739\n",
      "\n",
      "p-value 0.74 > alpha 0.05\n",
      "Принимаем H_0 - средние выборок РАВНЫ.\n",
      "Значимых изменений нет.\n",
      "________________________________________________________________________\n",
      "\n",
      "--- t-test 3го дня ---\n",
      "кол-во наблюдений в group_control = 1898\n",
      "кол-во наблюдений в group_test = 1909\n",
      "общее кол-во наблюдений = 3807\n",
      "средняя поюзерная конверсия (контрольная группа) = 59.74\n",
      "средняя поюзерная конверсия (тестовая группа) = 61.89\n",
      "p-value = 0.165\n",
      "\n",
      "p-value 0.17 > alpha 0.05\n",
      "Принимаем H_0 - средние выборок РАВНЫ.\n",
      "Значимых изменений нет.\n",
      "________________________________________________________________________\n",
      "\n",
      "--- t-test 4го дня ---\n",
      "кол-во наблюдений в group_control = 1910\n",
      "кол-во наблюдений в group_test = 1821\n",
      "общее кол-во наблюдений = 3731\n",
      "средняя поюзерная конверсия (контрольная группа) = 60.22\n",
      "средняя поюзерная конверсия (тестовая группа) = 62.23\n",
      "p-value = 0.199\n",
      "\n",
      "p-value 0.2 > alpha 0.05\n",
      "Принимаем H_0 - средние выборок РАВНЫ.\n",
      "Значимых изменений нет.\n",
      "________________________________________________________________________\n",
      "\n",
      "--- t-test 5го дня ---\n",
      "кол-во наблюдений в group_control = 1879\n",
      "кол-во наблюдений в group_test = 1889\n",
      "общее кол-во наблюдений = 3768\n",
      "средняя поюзерная конверсия (контрольная группа) = 59.58\n",
      "средняя поюзерная конверсия (тестовая группа) = 60.61\n",
      "p-value = 0.508\n",
      "\n",
      "p-value 0.51 > alpha 0.05\n",
      "Принимаем H_0 - средние выборок РАВНЫ.\n",
      "Значимых изменений нет.\n",
      "________________________________________________________________________\n",
      "\n",
      "--- t-test 6го дня ---\n",
      "кол-во наблюдений в group_control = 1918\n",
      "кол-во наблюдений в group_test = 1868\n",
      "общее кол-во наблюдений = 3786\n",
      "средняя поюзерная конверсия (контрольная группа) = 59.96\n",
      "средняя поюзерная конверсия (тестовая группа) = 62.91\n",
      "p-value = 0.056\n",
      "\n",
      "p-value 0.06 > alpha 0.05\n",
      "Принимаем H_0 - средние выборок РАВНЫ.\n",
      "Значимых изменений нет.\n",
      "________________________________________________________________________\n",
      "\n",
      "--- t-test 7го дня ---\n",
      "кол-во наблюдений в group_control = 1921\n",
      "кол-во наблюдений в group_test = 1932\n",
      "общее кол-во наблюдений = 3853\n",
      "средняя поюзерная конверсия (контрольная группа) = 58.88\n",
      "средняя поюзерная конверсия (тестовая группа) = 59.87\n",
      "p-value = 0.523\n",
      "\n",
      "p-value 0.52 > alpha 0.05\n",
      "Принимаем H_0 - средние выборок РАВНЫ.\n",
      "Значимых изменений нет.\n",
      "________________________________________________________________________\n",
      "\n"
     ]
    }
   ],
   "source": [
    "p_values = []\n",
    "for i in range(1,8):\n",
    "  print(f'--- t-test {i}го дня ---')\n",
    "  test_by_day(data_surge, i)\n",
    "  p_values.append(p_value_1)\n",
    "  print()\n",
    "  \n",
    "\n"
   ]
  },
  {
   "cell_type": "code",
   "execution_count": 8,
   "metadata": {
    "colab": {
     "base_uri": "https://localhost:8080/"
    },
    "executionInfo": {
     "elapsed": 9,
     "status": "ok",
     "timestamp": 1671980870769,
     "user": {
      "displayName": "Александр Бундыч",
      "userId": "11932459224027420021"
     },
     "user_tz": -180
    },
    "id": "SMGViEmBm_mT",
    "outputId": "f233378a-bbc4-4488-a13d-efa1a15925c6"
   },
   "outputs": [
    {
     "data": {
      "text/plain": [
       "[0.0009735385910968797,\n",
       " 0.7386004107192503,\n",
       " 0.1653384106031448,\n",
       " 0.1985099342129266,\n",
       " 0.5077296638551498,\n",
       " 0.05591127112443488,\n",
       " 0.5232772310240463]"
      ]
     },
     "execution_count": 8,
     "metadata": {},
     "output_type": "execute_result"
    }
   ],
   "source": [
    "p_values"
   ]
  },
  {
   "cell_type": "code",
   "execution_count": 9,
   "metadata": {
    "colab": {
     "base_uri": "https://localhost:8080/",
     "height": 282
    },
    "executionInfo": {
     "elapsed": 884,
     "status": "ok",
     "timestamp": 1671980871647,
     "user": {
      "displayName": "Александр Бундыч",
      "userId": "11932459224027420021"
     },
     "user_tz": -180
    },
    "id": "iionkqsam_oo",
    "outputId": "e9d3fb8e-03cc-4580-8f0c-dedd8388013c"
   },
   "outputs": [
    {
     "data": {
      "text/plain": [
       "[<matplotlib.lines.Line2D at 0x7fa03624efa0>]"
      ]
     },
     "execution_count": 9,
     "metadata": {},
     "output_type": "execute_result"
    },
    {
     "data": {
      "image/png": "[encoded data removed]",
      "text/plain": [
       "<Figure size 432x288 with 1 Axes>"
      ]
     },
     "metadata": {
      "needs_background": "light"
     },
     "output_type": "display_data"
    }
   ],
   "source": [
    "plt.plot(p_values)"
   ]
  },
  {
   "cell_type": "markdown",
   "metadata": {
    "executionInfo": {
     "elapsed": 9,
     "status": "ok",
     "timestamp": 1671980871648,
     "user": {
      "displayName": "Александр Бундыч",
      "userId": "11932459224027420021"
     },
     "user_tz": -180
    },
    "id": "ZvIp0evUvXJJ"
   },
   "source": [
    "### Вывод"
   ]
  },
  {
   "cell_type": "markdown",
   "metadata": {
    "id": "jxBPUa98ZwVy"
   },
   "source": [
    "Судя по графику дневных значений p-value, только в первый день мы наблюдаем результат внедрения новой опции в приложение (в этот день p-value < alpha, значит имеются различия между группами, а при проведении аб-теста мы этого и ждем). В остальных же днях различий между группа не наблюдается, значит новая опция накого воздействия на конверсию не оказывает. Раскатывать на всех пользователей её не будем."
   ]
  },
  {
   "cell_type": "markdown",
   "metadata": {
    "id": "PmeJ7UTxdB4h"
   },
   "source": [
    "Изначальная конверсия в заказ в период сурджа была = 74%, после ввнедрения опции в приложение, ожидаем новую конверсию +10пп. Выбрали alpha=0.05, beta=0.2 и получили размер каждой выборки (тест и контрол) по 322 пользователя.\n",
    "\n",
    "При проведении аб-теста каждый день в каждой из выборок было больше 1800 наблюдений. Это значит, что мощности теста хватает для определения изменений там, где они есть. А значит тест отработал корректно и показал, что модернизация не изменила поведение пользователей."
   ]
  },
  {
   "cell_type": "markdown",
   "metadata": {
    "id": "effY29lLin8g"
   },
   "source": [
    "##### Проверим накопительное значение p-value"
   ]
  },
  {
   "cell_type": "code",
   "execution_count": 10,
   "metadata": {
    "executionInfo": {
     "elapsed": 12,
     "status": "ok",
     "timestamp": 1671980871651,
     "user": {
      "displayName": "Александр Бундыч",
      "userId": "11932459224027420021"
     },
     "user_tz": -180
    },
    "id": "emyF_P1Rkxwm"
   },
   "outputs": [],
   "source": [
    "#функция проведения t-теста\n",
    "def test_by_day_cumul(df, alpha=0.05):\n",
    "  \n",
    "  global p_value_1 #чтобы вывести p_value в список для дальнейшего построения графика\n",
    "  day_1 = df\n",
    "\n",
    "  #находим конверсию по каждому пользователю (получим user_id без повторений)\n",
    "  day_1_by_user = day_1.groupby('user_id', as_index=False) \\\n",
    "                              .agg({'price_seen':'sum', \\\n",
    "                                    'order_made':'sum', \\\n",
    "                                    'group'     :'max'})\n",
    "  day_1_by_user['price_to_order_conv'] = round(day_1_by_user.order_made / day_1_by_user.price_seen, 2) *100\n",
    "\n",
    "  #разделяем на 2 группы\n",
    "  group_0 = day_1_by_user.query(\"group == 'Control'\")\n",
    "  group_1 = day_1_by_user.query(\"group == 'Test'\")\n",
    "\n",
    "\n",
    "  #выводим хорактеристики выборок\n",
    "  print('кол-во наблюдений в group_control =', len(group_0))\n",
    "  print('кол-во наблюдений в group_test =', len(group_1))\n",
    "  print('общее кол-во наблюдений =', len(group_1) + len(group_0)) #проверка что никто не потерялся\n",
    "  print('средняя поюзерная конверсия (контрольная группа) =', round(group_0.price_to_order_conv.mean(),2))\n",
    "  print('средняя поюзерная конверсия (тестовая группа) =', round(group_1.price_to_order_conv.mean(),2))\n",
    "\n",
    "  #проводим t-test\n",
    "  t = ttest_ind(group_0['price_to_order_conv'], group_1['price_to_order_conv'])\n",
    "  p_value_1 = t.pvalue\n",
    "  print('p-value =', round(p_value_1, 3))\n",
    "  print()\n",
    "  \n",
    "  if t.pvalue > alpha:\n",
    "    print(f'p-value {round(t.pvalue, 2)} > alpha {round(alpha, 2)}\\nПринимаем H_0 - средние выборок РАВНЫ.\\nЗначимых изменений нет.')\n",
    "  else:\n",
    "    print(f'p-value {round(t.pvalue, 2)} < alpha {round(alpha, 2)}\\nОтклоняем H_0 - средние выборок НЕ РАВНЫ\\nНаблюдается значимое изменение.')\n",
    "\n",
    "  print('________________________________________________________________________')"
   ]
  },
  {
   "cell_type": "code",
   "execution_count": 11,
   "metadata": {
    "executionInfo": {
     "elapsed": 13,
     "status": "ok",
     "timestamp": 1671980871652,
     "user": {
      "displayName": "Александр Бундыч",
      "userId": "11932459224027420021"
     },
     "user_tz": -180
    },
    "id": "41CJk0qYkisa"
   },
   "outputs": [],
   "source": [
    "d1 = data_surge.query(\"day_number in [1]\")\n",
    "d2 = data_surge.query(\"day_number in [1,2]\")\n",
    "d3 = data_surge.query(\"day_number in [1,2,3]\")\n",
    "d4 = data_surge.query(\"day_number in [1,2,3,4]\")\n",
    "d5 = data_surge.query(\"day_number in [1,2,3,4,5]\")\n",
    "d6 = data_surge.query(\"day_number in [1,2,3,4,5,6]\")\n",
    "d7 = data_surge.query(\"day_number in [1,2,3,4,5,6,7]\")\n",
    "\n",
    "days = [d1, d2, d3, d4, d5, d6, d7]"
   ]
  },
  {
   "cell_type": "code",
   "execution_count": 12,
   "metadata": {
    "colab": {
     "base_uri": "https://localhost:8080/"
    },
    "executionInfo": {
     "elapsed": 16120,
     "status": "ok",
     "timestamp": 1671980887760,
     "user": {
      "displayName": "Александр Бундыч",
      "userId": "11932459224027420021"
     },
     "user_tz": -180
    },
    "id": "sj96Ok5BkivA",
    "outputId": "5ea37f19-4d74-4526-c678-cd6c81cc4e54"
   },
   "outputs": [
    {
     "name": "stdout",
     "output_type": "stream",
     "text": [
      "--- t-test 1-го дня ---\n",
      "кол-во наблюдений в group_control = 1867\n",
      "кол-во наблюдений в group_test = 1916\n",
      "общее кол-во наблюдений = 3783\n",
      "средняя поюзерная конверсия (контрольная группа) = 58.48\n",
      "средняя поюзерная конверсия (тестовая группа) = 63.6\n",
      "p-value = 0.001\n",
      "\n",
      "p-value 0.0 < alpha 0.05\n",
      "Отклоняем H_0 - средние выборок НЕ РАВНЫ\n",
      "Наблюдается значимое изменение.\n",
      "________________________________________________________________________\n",
      "\n",
      "--- t-test 2-го дня ---\n",
      "кол-во наблюдений в group_control = 3438\n",
      "кол-во наблюдений в group_test = 3467\n",
      "общее кол-во наблюдений = 6905\n",
      "средняя поюзерная конверсия (контрольная группа) = 60.23\n",
      "средняя поюзерная конверсия (тестовая группа) = 62.66\n",
      "p-value = 0.031\n",
      "\n",
      "p-value 0.03 < alpha 0.05\n",
      "Отклоняем H_0 - средние выборок НЕ РАВНЫ\n",
      "Наблюдается значимое изменение.\n",
      "________________________________________________________________________\n",
      "\n",
      "--- t-test 3-го дня ---\n",
      "кол-во наблюдений в group_control = 4819\n",
      "кол-во наблюдений в group_test = 4829\n",
      "общее кол-во наблюдений = 9648\n",
      "средняя поюзерная конверсия (контрольная группа) = 59.95\n",
      "средняя поюзерная конверсия (тестовая группа) = 62.28\n",
      "p-value = 0.012\n",
      "\n",
      "p-value 0.01 < alpha 0.05\n",
      "Отклоняем H_0 - средние выборок НЕ РАВНЫ\n",
      "Наблюдается значимое изменение.\n",
      "________________________________________________________________________\n",
      "\n",
      "--- t-test 4-го дня ---\n",
      "кол-во наблюдений в group_control = 5970\n",
      "кол-во наблюдений в group_test = 5943\n",
      "общее кол-во наблюдений = 11913\n",
      "средняя поюзерная конверсия (контрольная группа) = 59.83\n",
      "средняя поюзерная конверсия (тестовая группа) = 62.34\n",
      "p-value = 0.002\n",
      "\n",
      "p-value 0.0 < alpha 0.05\n",
      "Отклоняем H_0 - средние выборок НЕ РАВНЫ\n",
      "Наблюдается значимое изменение.\n",
      "________________________________________________________________________\n",
      "\n",
      "--- t-test 5-го дня ---\n",
      "кол-во наблюдений в group_control = 6956\n",
      "кол-во наблюдений в group_test = 6936\n",
      "общее кол-во наблюдений = 13892\n",
      "средняя поюзерная конверсия (контрольная группа) = 59.67\n",
      "средняя поюзерная конверсия (тестовая группа) = 62.17\n",
      "p-value = 0.001\n",
      "\n",
      "p-value 0.0 < alpha 0.05\n",
      "Отклоняем H_0 - средние выборок НЕ РАВНЫ\n",
      "Наблюдается значимое изменение.\n",
      "________________________________________________________________________\n",
      "\n",
      "--- t-test 6-го дня ---\n",
      "кол-во наблюдений в group_control = 7817\n",
      "кол-во наблюдений в group_test = 7745\n",
      "общее кол-во наблюдений = 15562\n",
      "средняя поюзерная конверсия (контрольная группа) = 59.53\n",
      "средняя поюзерная конверсия (тестовая группа) = 62.25\n",
      "p-value = 0.0\n",
      "\n",
      "p-value 0.0 < alpha 0.05\n",
      "Отклоняем H_0 - средние выборок НЕ РАВНЫ\n",
      "Наблюдается значимое изменение.\n",
      "________________________________________________________________________\n",
      "\n",
      "--- t-test 7-го дня ---\n",
      "кол-во наблюдений в group_control = 8505\n",
      "кол-во наблюдений в group_test = 8445\n",
      "общее кол-во наблюдений = 16950\n",
      "средняя поюзерная конверсия (контрольная группа) = 59.55\n",
      "средняя поюзерная конверсия (тестовая группа) = 61.83\n",
      "p-value = 0.0\n",
      "\n",
      "p-value 0.0 < alpha 0.05\n",
      "Отклоняем H_0 - средние выборок НЕ РАВНЫ\n",
      "Наблюдается значимое изменение.\n",
      "________________________________________________________________________\n",
      "\n"
     ]
    }
   ],
   "source": [
    "p_values_2 = []\n",
    "n = 1\n",
    "for i in days:\n",
    "  \n",
    "  print(f'--- t-test {n}-го дня ---')\n",
    "  test_by_day_cumul(i)\n",
    "  p_values_2.append(p_value_1)\n",
    "  n += 1\n",
    "  print()"
   ]
  },
  {
   "cell_type": "code",
   "execution_count": 13,
   "metadata": {
    "colab": {
     "base_uri": "https://localhost:8080/"
    },
    "executionInfo": {
     "elapsed": 17,
     "status": "ok",
     "timestamp": 1671980887761,
     "user": {
      "displayName": "Александр Бундыч",
      "userId": "11932459224027420021"
     },
     "user_tz": -180
    },
    "id": "YCIiEfGLkixQ",
    "outputId": "8455a417-fde2-42ac-9944-c15a3163249a"
   },
   "outputs": [
    {
     "data": {
      "text/plain": [
       "[0.0009735385910968797,\n",
       " 0.030581553047600813,\n",
       " 0.012386085867903457,\n",
       " 0.002223882358666089,\n",
       " 0.0007754044646275396,\n",
       " 7.891661302397467e-05,\n",
       " 0.000403649163575467]"
      ]
     },
     "execution_count": 13,
     "metadata": {},
     "output_type": "execute_result"
    }
   ],
   "source": [
    "p_values_2"
   ]
  },
  {
   "cell_type": "code",
   "execution_count": 14,
   "metadata": {
    "colab": {
     "base_uri": "https://localhost:8080/",
     "height": 282
    },
    "executionInfo": {
     "elapsed": 593,
     "status": "ok",
     "timestamp": 1671980888339,
     "user": {
      "displayName": "Александр Бундыч",
      "userId": "11932459224027420021"
     },
     "user_tz": -180
    },
    "id": "uFnG-O1A_I_p",
    "outputId": "e8eed2ee-d411-430d-bd0c-6d34dd18b4e6"
   },
   "outputs": [
    {
     "data": {
      "text/plain": [
       "[<matplotlib.lines.Line2D at 0x7fa035d4f6a0>]"
      ]
     },
     "execution_count": 14,
     "metadata": {},
     "output_type": "execute_result"
    },
    {
     "data": {
      "image/png": "[encoded data removed]",
      "text/plain": [
       "<Figure size 432x288 with 1 Axes>"
      ]
     },
     "metadata": {
      "needs_background": "light"
     },
     "output_type": "display_data"
    }
   ],
   "source": [
    "plt.plot(p_values_2)"
   ]
  },
  {
   "cell_type": "markdown",
   "metadata": {
    "id": "20AMg-l5v-7R"
   },
   "source": [
    "### Вывод\n",
    "\n",
    "По куммулятивному p-value, каждый день наблюдается значение меньше alpha, что говорит о различии групп и мы делаем вывод, что новая опция действительно оказывает влияние на конверсию в покупку.\n",
    "\n",
    "ниже приведены значения конверсий. Если учитывать что аб-тест прошел успешно и в итоге получили значимую разницу, то уменьшение коэфф сурджа даже ухудшило конверсию на 2пп. И в этом случае мы тоже не будем раскатывать эту фичу на всех пользователей."
   ]
  },
  {
   "cell_type": "code",
   "execution_count": 17,
   "metadata": {
    "colab": {
     "base_uri": "https://localhost:8080/"
    },
    "executionInfo": {
     "elapsed": 998,
     "status": "ok",
     "timestamp": 1671981021349,
     "user": {
      "displayName": "Александр Бундыч",
      "userId": "11932459224027420021"
     },
     "user_tz": -180
    },
    "id": "7HYaTsJBt9BT",
    "outputId": "2f690afa-bdbc-4c0c-f4a7-680786e83555"
   },
   "outputs": [
    {
     "name": "stdout",
     "output_type": "stream",
     "text": [
      "d1_test_conv_mean =  63.60438413361169\n",
      "d1_control_conv_mean =  58.480449919657204\n"
     ]
    }
   ],
   "source": [
    "#средняя поюзерная конверсия в заказ за первый день\n",
    "d1 = d1.groupby('user_id', as_index=False) \\\n",
    "                              .agg({'price_seen':'sum', \\\n",
    "                                    'order_made':'sum', \\\n",
    "                                    'group'     :'max'})\n",
    "                              \n",
    "d1['price_to_order_conv'] = round(d1.order_made / d1.price_seen, 2) *100\n",
    "\n",
    "d1_t = d1.query(\"group == 'Test'\")\n",
    "d1_c = d1.query(\"group == 'Control'\")\n",
    "\n",
    "print('d1_test_conv_mean = ', d1_t.price_to_order_conv.mean())\n",
    "print('d1_control_conv_mean = ', d1_c.price_to_order_conv.mean())"
   ]
  },
  {
   "cell_type": "code",
   "execution_count": 18,
   "metadata": {
    "colab": {
     "base_uri": "https://localhost:8080/"
    },
    "executionInfo": {
     "elapsed": 2720,
     "status": "ok",
     "timestamp": 1671981042800,
     "user": {
      "displayName": "Александр Бундыч",
      "userId": "11932459224027420021"
     },
     "user_tz": -180
    },
    "id": "OPuhQ5ZZxhhT",
    "outputId": "16a2f853-f5cc-4b9c-e7b5-7f4e39da3541"
   },
   "outputs": [
    {
     "name": "stdout",
     "output_type": "stream",
     "text": [
      "d7_test_conv_mean =  61.8283007696862\n",
      "d7_control_conv_mean =  59.551793062904174\n"
     ]
    }
   ],
   "source": [
    "#средняя поюзерная конверсия в заказ за седьмой день\n",
    "d7 = d7.groupby('user_id', as_index=False) \\\n",
    "                              .agg({'price_seen':'sum', \\\n",
    "                                    'order_made':'sum', \\\n",
    "                                    'group'     :'max'})\n",
    "                              \n",
    "d7['price_to_order_conv'] = round(d7.order_made / d7.price_seen, 2) *100\n",
    "\n",
    "d7_t = d7.query(\"group == 'Test'\")\n",
    "d7_c = d7.query(\"group == 'Control'\")\n",
    "\n",
    "print('d7_test_conv_mean = ', d7_t.price_to_order_conv.mean())\n",
    "print('d7_control_conv_mean = ', d7_c.price_to_order_conv.mean())"
   ]
  },
  {
   "cell_type": "code",
   "execution_count": 18,
   "metadata": {
    "executionInfo": {
     "elapsed": 440,
     "status": "ok",
     "timestamp": 1671981858745,
     "user": {
      "displayName": "Александр Бундыч",
      "userId": "11932459224027420021"
     },
     "user_tz": -180
    },
    "id": "rT1Y4hGKyAD1"
   },
   "outputs": [],
   "source": []
  },
  {
   "cell_type": "code",
   "execution_count": null,
   "metadata": {
    "executionInfo": {
     "elapsed": 2,
     "status": "aborted",
     "timestamp": 1671980889975,
     "user": {
      "displayName": "Александр Бундыч",
      "userId": "11932459224027420021"
     },
     "user_tz": -180
    },
    "id": "os8lDSuiznex"
   },
   "outputs": [],
   "source": []
  }
 ],
 "metadata": {
  "colab": {
   "authorship_tag": "ABX9TyM1ffcVSEaUbt6J1Z6kDJyU",
   "provenance": []
  },
  "kernelspec": {
   "display_name": "Python 3",
   "name": "python3"
  },
  "language_info": {
   "name": "python"
  }
 },
 "nbformat": 4,
 "nbformat_minor": 0
}
