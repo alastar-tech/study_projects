{
 "cells": [
  {
   "cell_type": "code",
   "execution_count": 1,
   "metadata": {
    "executionInfo": {
     "elapsed": 998,
     "status": "ok",
     "timestamp": 1671130557094,
     "user": {
      "displayName": "Александр Бундыч",
      "userId": "11932459224027420021"
     },
     "user_tz": -180
    },
    "id": "0D-SWWCPLbOW"
   },
   "outputs": [],
   "source": [
    "import pandas as pd\n",
    "import numpy as np\n",
    "from scipy.stats import ttest_ind\n",
    "import seaborn as sns\n",
    "import matplotlib.pyplot as plt"
   ]
  },
  {
   "cell_type": "code",
   "execution_count": 2,
   "metadata": {
    "colab": {
     "base_uri": "https://localhost:8080/",
     "height": 357
    },
    "executionInfo": {
     "elapsed": 10,
     "status": "ok",
     "timestamp": 1671130557095,
     "user": {
      "displayName": "Александр Бундыч",
      "userId": "11932459224027420021"
     },
     "user_tz": -180
    },
    "id": "JYqEyVNhLj-i",
    "outputId": "a34bee8c-d8e2-4a6b-8843-1b2a44d2bfd9"
   },
   "outputs": [
    {
     "data": {
      "text/html": [
       "\n",
       "  <div id=\"df-2717fe6c-1219-4110-ade4-108d9bf1b1f4\">\n",
       "    <div class=\"colab-df-container\">\n",
       "      <div>\n",
       "<style scoped>\n",
       "    .dataframe tbody tr th:only-of-type {\n",
       "        vertical-align: middle;\n",
       "    }\n",
       "\n",
       "    .dataframe tbody tr th {\n",
       "        vertical-align: top;\n",
       "    }\n",
       "\n",
       "    .dataframe thead th {\n",
       "        text-align: right;\n",
       "    }\n",
       "</style>\n",
       "<table border=\"1\" class=\"dataframe\">\n",
       "  <thead>\n",
       "    <tr style=\"text-align: right;\">\n",
       "      <th></th>\n",
       "      <th>user_id</th>\n",
       "      <th>hour</th>\n",
       "      <th>os</th>\n",
       "      <th>order_class</th>\n",
       "      <th>surge</th>\n",
       "      <th>app_opened</th>\n",
       "      <th>price_seen</th>\n",
       "      <th>order_made</th>\n",
       "      <th>ride_completed</th>\n",
       "      <th>user_cancelled</th>\n",
       "      <th>city_center_order</th>\n",
       "      <th>distance</th>\n",
       "      <th>age</th>\n",
       "      <th>rfm</th>\n",
       "    </tr>\n",
       "  </thead>\n",
       "  <tbody>\n",
       "    <tr>\n",
       "      <th>0</th>\n",
       "      <td>867689</td>\n",
       "      <td>12</td>\n",
       "      <td>iOS</td>\n",
       "      <td>business</td>\n",
       "      <td>no surge</td>\n",
       "      <td>1</td>\n",
       "      <td>1</td>\n",
       "      <td>1</td>\n",
       "      <td>1</td>\n",
       "      <td>0</td>\n",
       "      <td>0</td>\n",
       "      <td>7.982135</td>\n",
       "      <td>20</td>\n",
       "      <td>low</td>\n",
       "    </tr>\n",
       "    <tr>\n",
       "      <th>1</th>\n",
       "      <td>752172</td>\n",
       "      <td>5</td>\n",
       "      <td>Android</td>\n",
       "      <td>economy</td>\n",
       "      <td>no surge</td>\n",
       "      <td>1</td>\n",
       "      <td>1</td>\n",
       "      <td>1</td>\n",
       "      <td>1</td>\n",
       "      <td>0</td>\n",
       "      <td>1</td>\n",
       "      <td>2.908468</td>\n",
       "      <td>27</td>\n",
       "      <td>high</td>\n",
       "    </tr>\n",
       "    <tr>\n",
       "      <th>2</th>\n",
       "      <td>486559</td>\n",
       "      <td>15</td>\n",
       "      <td>Android</td>\n",
       "      <td>comfort</td>\n",
       "      <td>no surge</td>\n",
       "      <td>1</td>\n",
       "      <td>1</td>\n",
       "      <td>1</td>\n",
       "      <td>1</td>\n",
       "      <td>0</td>\n",
       "      <td>0</td>\n",
       "      <td>7.224614</td>\n",
       "      <td>21</td>\n",
       "      <td>high</td>\n",
       "    </tr>\n",
       "    <tr>\n",
       "      <th>3</th>\n",
       "      <td>304024</td>\n",
       "      <td>0</td>\n",
       "      <td>Android</td>\n",
       "      <td>economy</td>\n",
       "      <td>no surge</td>\n",
       "      <td>1</td>\n",
       "      <td>1</td>\n",
       "      <td>1</td>\n",
       "      <td>1</td>\n",
       "      <td>0</td>\n",
       "      <td>1</td>\n",
       "      <td>1.874349</td>\n",
       "      <td>52</td>\n",
       "      <td>low</td>\n",
       "    </tr>\n",
       "    <tr>\n",
       "      <th>4</th>\n",
       "      <td>139420</td>\n",
       "      <td>0</td>\n",
       "      <td>Android</td>\n",
       "      <td>business</td>\n",
       "      <td>no surge</td>\n",
       "      <td>1</td>\n",
       "      <td>1</td>\n",
       "      <td>1</td>\n",
       "      <td>1</td>\n",
       "      <td>0</td>\n",
       "      <td>0</td>\n",
       "      <td>10.704778</td>\n",
       "      <td>19</td>\n",
       "      <td>low</td>\n",
       "    </tr>\n",
       "  </tbody>\n",
       "</table>\n",
       "</div>\n",
       "      <button class=\"colab-df-convert\" onclick=\"convertToInteractive('df-2717fe6c-1219-4110-ade4-108d9bf1b1f4')\"\n",
       "              title=\"Convert this dataframe to an interactive table.\"\n",
       "              style=\"display:none;\">\n",
       "        \n",
       "  <svg xmlns=\"http://www.w3.org/2000/svg\" height=\"24px\"viewBox=\"0 0 24 24\"\n",
       "       width=\"24px\">\n",
       "    <path d=\"M0 0h24v24H0V0z\" fill=\"none\"/>\n",
       "    <path d=\"M18.56 5.44l.94 2.06.94-2.06 2.06-.94-2.06-.94-.94-2.06-.94 2.06-2.06.94zm-11 1L8.5 8.5l.94-2.06 2.06-.94-2.06-.94L8.5 2.5l-.94 2.06-2.06.94zm10 10l.94 2.06.94-2.06 2.06-.94-2.06-.94-.94-2.06-.94 2.06-2.06.94z\"/><path d=\"M17.41 7.96l-1.37-1.37c-.4-.4-.92-.59-1.43-.59-.52 0-1.04.2-1.43.59L10.3 9.45l-7.72 7.72c-.78.78-.78 2.05 0 2.83L4 21.41c.39.39.9.59 1.41.59.51 0 1.02-.2 1.41-.59l7.78-7.78 2.81-2.81c.8-.78.8-2.07 0-2.86zM5.41 20L4 18.59l7.72-7.72 1.47 1.35L5.41 20z\"/>\n",
       "  </svg>\n",
       "      </button>\n",
       "      \n",
       "  <style>\n",
       "    .colab-df-container {\n",
       "      display:flex;\n",
       "      flex-wrap:wrap;\n",
       "      gap: 12px;\n",
       "    }\n",
       "\n",
       "    .colab-df-convert {\n",
       "      background-color: #E8F0FE;\n",
       "      border: none;\n",
       "      border-radius: 50%;\n",
       "      cursor: pointer;\n",
       "      display: none;\n",
       "      fill: #1967D2;\n",
       "      height: 32px;\n",
       "      padding: 0 0 0 0;\n",
       "      width: 32px;\n",
       "    }\n",
       "\n",
       "    .colab-df-convert:hover {\n",
       "      background-color: #E2EBFA;\n",
       "      box-shadow: 0px 1px 2px rgba(60, 64, 67, 0.3), 0px 1px 3px 1px rgba(60, 64, 67, 0.15);\n",
       "      fill: #174EA6;\n",
       "    }\n",
       "\n",
       "    [theme=dark] .colab-df-convert {\n",
       "      background-color: #3B4455;\n",
       "      fill: #D2E3FC;\n",
       "    }\n",
       "\n",
       "    [theme=dark] .colab-df-convert:hover {\n",
       "      background-color: #434B5C;\n",
       "      box-shadow: 0px 1px 3px 1px rgba(0, 0, 0, 0.15);\n",
       "      filter: drop-shadow(0px 1px 2px rgba(0, 0, 0, 0.3));\n",
       "      fill: #FFFFFF;\n",
       "    }\n",
       "  </style>\n",
       "\n",
       "      <script>\n",
       "        const buttonEl =\n",
       "          document.querySelector('#df-2717fe6c-1219-4110-ade4-108d9bf1b1f4 button.colab-df-convert');\n",
       "        buttonEl.style.display =\n",
       "          google.colab.kernel.accessAllowed ? 'block' : 'none';\n",
       "\n",
       "        async function convertToInteractive(key) {\n",
       "          const element = document.querySelector('#df-2717fe6c-1219-4110-ade4-108d9bf1b1f4');\n",
       "          const dataTable =\n",
       "            await google.colab.kernel.invokeFunction('convertToInteractive',\n",
       "                                                     [key], {});\n",
       "          if (!dataTable) return;\n",
       "\n",
       "          const docLinkHtml = 'Like what you see? Visit the ' +\n",
       "            '<a target=\"_blank\" href=https://colab.research.google.com/notebooks/data_table.ipynb>data table notebook</a>'\n",
       "            + ' to learn more about interactive tables.';\n",
       "          element.innerHTML = '';\n",
       "          dataTable['output_type'] = 'display_data';\n",
       "          await google.colab.output.renderOutput(dataTable, element);\n",
       "          const docLink = document.createElement('div');\n",
       "          docLink.innerHTML = docLinkHtml;\n",
       "          element.appendChild(docLink);\n",
       "        }\n",
       "      </script>\n",
       "    </div>\n",
       "  </div>\n",
       "  "
      ],
      "text/plain": [
       "   user_id  hour       os order_class     surge  app_opened  price_seen  \\\n",
       "0   867689    12      iOS    business  no surge           1           1   \n",
       "1   752172     5  Android     economy  no surge           1           1   \n",
       "2   486559    15  Android     comfort  no surge           1           1   \n",
       "3   304024     0  Android     economy  no surge           1           1   \n",
       "4   139420     0  Android    business  no surge           1           1   \n",
       "\n",
       "   order_made  ride_completed  user_cancelled  city_center_order   distance  \\\n",
       "0           1               1               0                  0   7.982135   \n",
       "1           1               1               0                  1   2.908468   \n",
       "2           1               1               0                  0   7.224614   \n",
       "3           1               1               0                  1   1.874349   \n",
       "4           1               1               0                  0  10.704778   \n",
       "\n",
       "   age   rfm  \n",
       "0   20   low  \n",
       "1   27  high  \n",
       "2   21  high  \n",
       "3   52   low  \n",
       "4   19   low  "
      ]
     },
     "execution_count": 2,
     "metadata": {},
     "output_type": "execute_result"
    }
   ],
   "source": [
    "df = pd.read_csv('df_2.csv')\n",
    "df = df.drop(columns=['Unnamed: 0'])\n",
    "df.head(5)"
   ]
  },
  {
   "cell_type": "markdown",
   "metadata": {
    "id": "ot4iTUuuMK_F"
   },
   "source": [
    "НАБЛЮДЕНИЕ_1: В период Surge видим более низкую price-to-order конверсию\n",
    "\n",
    "ГИПОТЕЗА: Если убрать надпись \"повышенный спрос\" то конверсия в заказ в период сурджа увеличится на 10пп."
   ]
  },
  {
   "cell_type": "code",
   "execution_count": 3,
   "metadata": {
    "colab": {
     "base_uri": "https://localhost:8080/",
     "height": 270
    },
    "executionInfo": {
     "elapsed": 9,
     "status": "ok",
     "timestamp": 1671130557095,
     "user": {
      "displayName": "Александр Бундыч",
      "userId": "11932459224027420021"
     },
     "user_tz": -180
    },
    "id": "y3BnJNKrMQdt",
    "outputId": "87cf9f36-c0ed-493b-f014-f91bcb0722c0"
   },
   "outputs": [
    {
     "data": {
      "text/html": [
       "\n",
       "  <div id=\"df-0fd154f1-933a-49fc-9854-3032a1b41dd3\">\n",
       "    <div class=\"colab-df-container\">\n",
       "      <div>\n",
       "<style scoped>\n",
       "    .dataframe tbody tr th:only-of-type {\n",
       "        vertical-align: middle;\n",
       "    }\n",
       "\n",
       "    .dataframe tbody tr th {\n",
       "        vertical-align: top;\n",
       "    }\n",
       "\n",
       "    .dataframe thead th {\n",
       "        text-align: right;\n",
       "    }\n",
       "</style>\n",
       "<table border=\"1\" class=\"dataframe\">\n",
       "  <thead>\n",
       "    <tr style=\"text-align: right;\">\n",
       "      <th></th>\n",
       "      <th>user_id</th>\n",
       "      <th>hour</th>\n",
       "      <th>os</th>\n",
       "      <th>order_class</th>\n",
       "      <th>surge</th>\n",
       "      <th>app_opened</th>\n",
       "      <th>price_seen</th>\n",
       "      <th>order_made</th>\n",
       "      <th>ride_completed</th>\n",
       "      <th>user_cancelled</th>\n",
       "      <th>city_center_order</th>\n",
       "      <th>distance</th>\n",
       "      <th>age</th>\n",
       "      <th>rfm</th>\n",
       "    </tr>\n",
       "  </thead>\n",
       "  <tbody>\n",
       "    <tr>\n",
       "      <th>9</th>\n",
       "      <td>662775</td>\n",
       "      <td>17</td>\n",
       "      <td>Android</td>\n",
       "      <td>comfort</td>\n",
       "      <td>surge</td>\n",
       "      <td>1</td>\n",
       "      <td>1</td>\n",
       "      <td>1</td>\n",
       "      <td>1</td>\n",
       "      <td>0</td>\n",
       "      <td>1</td>\n",
       "      <td>4.828326</td>\n",
       "      <td>36</td>\n",
       "      <td>low</td>\n",
       "    </tr>\n",
       "    <tr>\n",
       "      <th>10</th>\n",
       "      <td>464055</td>\n",
       "      <td>20</td>\n",
       "      <td>iOS</td>\n",
       "      <td>comfort</td>\n",
       "      <td>surge</td>\n",
       "      <td>1</td>\n",
       "      <td>1</td>\n",
       "      <td>1</td>\n",
       "      <td>1</td>\n",
       "      <td>0</td>\n",
       "      <td>0</td>\n",
       "      <td>3.647097</td>\n",
       "      <td>25</td>\n",
       "      <td>high</td>\n",
       "    </tr>\n",
       "    <tr>\n",
       "      <th>18</th>\n",
       "      <td>393096</td>\n",
       "      <td>23</td>\n",
       "      <td>Android</td>\n",
       "      <td>comfort</td>\n",
       "      <td>surge</td>\n",
       "      <td>1</td>\n",
       "      <td>1</td>\n",
       "      <td>0</td>\n",
       "      <td>0</td>\n",
       "      <td>0</td>\n",
       "      <td>1</td>\n",
       "      <td>2.523357</td>\n",
       "      <td>19</td>\n",
       "      <td>high</td>\n",
       "    </tr>\n",
       "    <tr>\n",
       "      <th>21</th>\n",
       "      <td>103860</td>\n",
       "      <td>13</td>\n",
       "      <td>iOS</td>\n",
       "      <td>economy</td>\n",
       "      <td>surge</td>\n",
       "      <td>1</td>\n",
       "      <td>1</td>\n",
       "      <td>1</td>\n",
       "      <td>1</td>\n",
       "      <td>0</td>\n",
       "      <td>1</td>\n",
       "      <td>7.934002</td>\n",
       "      <td>21</td>\n",
       "      <td>high</td>\n",
       "    </tr>\n",
       "    <tr>\n",
       "      <th>24</th>\n",
       "      <td>461185</td>\n",
       "      <td>21</td>\n",
       "      <td>iOS</td>\n",
       "      <td>economy</td>\n",
       "      <td>surge</td>\n",
       "      <td>1</td>\n",
       "      <td>1</td>\n",
       "      <td>1</td>\n",
       "      <td>1</td>\n",
       "      <td>0</td>\n",
       "      <td>1</td>\n",
       "      <td>1.590209</td>\n",
       "      <td>29</td>\n",
       "      <td>high</td>\n",
       "    </tr>\n",
       "  </tbody>\n",
       "</table>\n",
       "</div>\n",
       "      <button class=\"colab-df-convert\" onclick=\"convertToInteractive('df-0fd154f1-933a-49fc-9854-3032a1b41dd3')\"\n",
       "              title=\"Convert this dataframe to an interactive table.\"\n",
       "              style=\"display:none;\">\n",
       "        \n",
       "  <svg xmlns=\"http://www.w3.org/2000/svg\" height=\"24px\"viewBox=\"0 0 24 24\"\n",
       "       width=\"24px\">\n",
       "    <path d=\"M0 0h24v24H0V0z\" fill=\"none\"/>\n",
       "    <path d=\"M18.56 5.44l.94 2.06.94-2.06 2.06-.94-2.06-.94-.94-2.06-.94 2.06-2.06.94zm-11 1L8.5 8.5l.94-2.06 2.06-.94-2.06-.94L8.5 2.5l-.94 2.06-2.06.94zm10 10l.94 2.06.94-2.06 2.06-.94-2.06-.94-.94-2.06-.94 2.06-2.06.94z\"/><path d=\"M17.41 7.96l-1.37-1.37c-.4-.4-.92-.59-1.43-.59-.52 0-1.04.2-1.43.59L10.3 9.45l-7.72 7.72c-.78.78-.78 2.05 0 2.83L4 21.41c.39.39.9.59 1.41.59.51 0 1.02-.2 1.41-.59l7.78-7.78 2.81-2.81c.8-.78.8-2.07 0-2.86zM5.41 20L4 18.59l7.72-7.72 1.47 1.35L5.41 20z\"/>\n",
       "  </svg>\n",
       "      </button>\n",
       "      \n",
       "  <style>\n",
       "    .colab-df-container {\n",
       "      display:flex;\n",
       "      flex-wrap:wrap;\n",
       "      gap: 12px;\n",
       "    }\n",
       "\n",
       "    .colab-df-convert {\n",
       "      background-color: #E8F0FE;\n",
       "      border: none;\n",
       "      border-radius: 50%;\n",
       "      cursor: pointer;\n",
       "      display: none;\n",
       "      fill: #1967D2;\n",
       "      height: 32px;\n",
       "      padding: 0 0 0 0;\n",
       "      width: 32px;\n",
       "    }\n",
       "\n",
       "    .colab-df-convert:hover {\n",
       "      background-color: #E2EBFA;\n",
       "      box-shadow: 0px 1px 2px rgba(60, 64, 67, 0.3), 0px 1px 3px 1px rgba(60, 64, 67, 0.15);\n",
       "      fill: #174EA6;\n",
       "    }\n",
       "\n",
       "    [theme=dark] .colab-df-convert {\n",
       "      background-color: #3B4455;\n",
       "      fill: #D2E3FC;\n",
       "    }\n",
       "\n",
       "    [theme=dark] .colab-df-convert:hover {\n",
       "      background-color: #434B5C;\n",
       "      box-shadow: 0px 1px 3px 1px rgba(0, 0, 0, 0.15);\n",
       "      filter: drop-shadow(0px 1px 2px rgba(0, 0, 0, 0.3));\n",
       "      fill: #FFFFFF;\n",
       "    }\n",
       "  </style>\n",
       "\n",
       "      <script>\n",
       "        const buttonEl =\n",
       "          document.querySelector('#df-0fd154f1-933a-49fc-9854-3032a1b41dd3 button.colab-df-convert');\n",
       "        buttonEl.style.display =\n",
       "          google.colab.kernel.accessAllowed ? 'block' : 'none';\n",
       "\n",
       "        async function convertToInteractive(key) {\n",
       "          const element = document.querySelector('#df-0fd154f1-933a-49fc-9854-3032a1b41dd3');\n",
       "          const dataTable =\n",
       "            await google.colab.kernel.invokeFunction('convertToInteractive',\n",
       "                                                     [key], {});\n",
       "          if (!dataTable) return;\n",
       "\n",
       "          const docLinkHtml = 'Like what you see? Visit the ' +\n",
       "            '<a target=\"_blank\" href=https://colab.research.google.com/notebooks/data_table.ipynb>data table notebook</a>'\n",
       "            + ' to learn more about interactive tables.';\n",
       "          element.innerHTML = '';\n",
       "          dataTable['output_type'] = 'display_data';\n",
       "          await google.colab.output.renderOutput(dataTable, element);\n",
       "          const docLink = document.createElement('div');\n",
       "          docLink.innerHTML = docLinkHtml;\n",
       "          element.appendChild(docLink);\n",
       "        }\n",
       "      </script>\n",
       "    </div>\n",
       "  </div>\n",
       "  "
      ],
      "text/plain": [
       "    user_id  hour       os order_class  surge  app_opened  price_seen  \\\n",
       "9    662775    17  Android     comfort  surge           1           1   \n",
       "10   464055    20      iOS     comfort  surge           1           1   \n",
       "18   393096    23  Android     comfort  surge           1           1   \n",
       "21   103860    13      iOS     economy  surge           1           1   \n",
       "24   461185    21      iOS     economy  surge           1           1   \n",
       "\n",
       "    order_made  ride_completed  user_cancelled  city_center_order  distance  \\\n",
       "9            1               1               0                  1  4.828326   \n",
       "10           1               1               0                  0  3.647097   \n",
       "18           0               0               0                  1  2.523357   \n",
       "21           1               1               0                  1  7.934002   \n",
       "24           1               1               0                  1  1.590209   \n",
       "\n",
       "    age   rfm  \n",
       "9    36   low  \n",
       "10   25  high  \n",
       "18   19  high  \n",
       "21   21  high  \n",
       "24   29  high  "
      ]
     },
     "execution_count": 3,
     "metadata": {},
     "output_type": "execute_result"
    }
   ],
   "source": [
    "#выбираем пользователей, которые делали заказ в период сурджа\n",
    "df_surge = df.query(\"surge == 'surge'\")\n",
    "df_surge.head()"
   ]
  },
  {
   "cell_type": "code",
   "execution_count": 5,
   "metadata": {
    "colab": {
     "base_uri": "https://localhost:8080/",
     "height": 310
    },
    "executionInfo": {
     "elapsed": 491,
     "status": "ok",
     "timestamp": 1671130557580,
     "user": {
      "displayName": "Александр Бундыч",
      "userId": "11932459224027420021"
     },
     "user_tz": -180
    },
    "id": "bsZNph49Qfqy",
    "outputId": "7312d942-1003-405e-c776-a4dac0ca8b59"
   },
   "outputs": [
    {
     "name": "stderr",
     "output_type": "stream",
     "text": [
      "<ipython-input-5-a058ad3cc796>:2: SettingWithCopyWarning: \n",
      "A value is trying to be set on a copy of a slice from a DataFrame.\n",
      "Try using .loc[row_indexer,col_indexer] = value instead\n",
      "\n",
      "See the caveats in the documentation: https://pandas.pydata.org/pandas-docs/stable/user_guide/indexing.html#returning-a-view-versus-a-copy\n",
      "  df_surge['price_to_order_conv'] = round(df_surge.order_made / df_surge.price_seen,2) * 100\n"
     ]
    },
    {
     "data": {
      "text/html": [
       "\n",
       "  <div id=\"df-5da9106d-0a72-4337-bd0b-a21479abec3e\">\n",
       "    <div class=\"colab-df-container\">\n",
       "      <div>\n",
       "<style scoped>\n",
       "    .dataframe tbody tr th:only-of-type {\n",
       "        vertical-align: middle;\n",
       "    }\n",
       "\n",
       "    .dataframe tbody tr th {\n",
       "        vertical-align: top;\n",
       "    }\n",
       "\n",
       "    .dataframe thead th {\n",
       "        text-align: right;\n",
       "    }\n",
       "</style>\n",
       "<table border=\"1\" class=\"dataframe\">\n",
       "  <thead>\n",
       "    <tr style=\"text-align: right;\">\n",
       "      <th></th>\n",
       "      <th>user_id</th>\n",
       "      <th>price_to_order_conv</th>\n",
       "      <th>group</th>\n",
       "    </tr>\n",
       "  </thead>\n",
       "  <tbody>\n",
       "    <tr>\n",
       "      <th>0</th>\n",
       "      <td>100093</td>\n",
       "      <td>50.0</td>\n",
       "      <td>1</td>\n",
       "    </tr>\n",
       "    <tr>\n",
       "      <th>1</th>\n",
       "      <td>100118</td>\n",
       "      <td>100.0</td>\n",
       "      <td>1</td>\n",
       "    </tr>\n",
       "    <tr>\n",
       "      <th>2</th>\n",
       "      <td>100134</td>\n",
       "      <td>100.0</td>\n",
       "      <td>0</td>\n",
       "    </tr>\n",
       "    <tr>\n",
       "      <th>3</th>\n",
       "      <td>100166</td>\n",
       "      <td>100.0</td>\n",
       "      <td>1</td>\n",
       "    </tr>\n",
       "    <tr>\n",
       "      <th>4</th>\n",
       "      <td>100255</td>\n",
       "      <td>0.0</td>\n",
       "      <td>0</td>\n",
       "    </tr>\n",
       "  </tbody>\n",
       "</table>\n",
       "</div>\n",
       "      <button class=\"colab-df-convert\" onclick=\"convertToInteractive('df-5da9106d-0a72-4337-bd0b-a21479abec3e')\"\n",
       "              title=\"Convert this dataframe to an interactive table.\"\n",
       "              style=\"display:none;\">\n",
       "        \n",
       "  <svg xmlns=\"http://www.w3.org/2000/svg\" height=\"24px\"viewBox=\"0 0 24 24\"\n",
       "       width=\"24px\">\n",
       "    <path d=\"M0 0h24v24H0V0z\" fill=\"none\"/>\n",
       "    <path d=\"M18.56 5.44l.94 2.06.94-2.06 2.06-.94-2.06-.94-.94-2.06-.94 2.06-2.06.94zm-11 1L8.5 8.5l.94-2.06 2.06-.94-2.06-.94L8.5 2.5l-.94 2.06-2.06.94zm10 10l.94 2.06.94-2.06 2.06-.94-2.06-.94-.94-2.06-.94 2.06-2.06.94z\"/><path d=\"M17.41 7.96l-1.37-1.37c-.4-.4-.92-.59-1.43-.59-.52 0-1.04.2-1.43.59L10.3 9.45l-7.72 7.72c-.78.78-.78 2.05 0 2.83L4 21.41c.39.39.9.59 1.41.59.51 0 1.02-.2 1.41-.59l7.78-7.78 2.81-2.81c.8-.78.8-2.07 0-2.86zM5.41 20L4 18.59l7.72-7.72 1.47 1.35L5.41 20z\"/>\n",
       "  </svg>\n",
       "      </button>\n",
       "      \n",
       "  <style>\n",
       "    .colab-df-container {\n",
       "      display:flex;\n",
       "      flex-wrap:wrap;\n",
       "      gap: 12px;\n",
       "    }\n",
       "\n",
       "    .colab-df-convert {\n",
       "      background-color: #E8F0FE;\n",
       "      border: none;\n",
       "      border-radius: 50%;\n",
       "      cursor: pointer;\n",
       "      display: none;\n",
       "      fill: #1967D2;\n",
       "      height: 32px;\n",
       "      padding: 0 0 0 0;\n",
       "      width: 32px;\n",
       "    }\n",
       "\n",
       "    .colab-df-convert:hover {\n",
       "      background-color: #E2EBFA;\n",
       "      box-shadow: 0px 1px 2px rgba(60, 64, 67, 0.3), 0px 1px 3px 1px rgba(60, 64, 67, 0.15);\n",
       "      fill: #174EA6;\n",
       "    }\n",
       "\n",
       "    [theme=dark] .colab-df-convert {\n",
       "      background-color: #3B4455;\n",
       "      fill: #D2E3FC;\n",
       "    }\n",
       "\n",
       "    [theme=dark] .colab-df-convert:hover {\n",
       "      background-color: #434B5C;\n",
       "      box-shadow: 0px 1px 3px 1px rgba(0, 0, 0, 0.15);\n",
       "      filter: drop-shadow(0px 1px 2px rgba(0, 0, 0, 0.3));\n",
       "      fill: #FFFFFF;\n",
       "    }\n",
       "  </style>\n",
       "\n",
       "      <script>\n",
       "        const buttonEl =\n",
       "          document.querySelector('#df-5da9106d-0a72-4337-bd0b-a21479abec3e button.colab-df-convert');\n",
       "        buttonEl.style.display =\n",
       "          google.colab.kernel.accessAllowed ? 'block' : 'none';\n",
       "\n",
       "        async function convertToInteractive(key) {\n",
       "          const element = document.querySelector('#df-5da9106d-0a72-4337-bd0b-a21479abec3e');\n",
       "          const dataTable =\n",
       "            await google.colab.kernel.invokeFunction('convertToInteractive',\n",
       "                                                     [key], {});\n",
       "          if (!dataTable) return;\n",
       "\n",
       "          const docLinkHtml = 'Like what you see? Visit the ' +\n",
       "            '<a target=\"_blank\" href=https://colab.research.google.com/notebooks/data_table.ipynb>data table notebook</a>'\n",
       "            + ' to learn more about interactive tables.';\n",
       "          element.innerHTML = '';\n",
       "          dataTable['output_type'] = 'display_data';\n",
       "          await google.colab.output.renderOutput(dataTable, element);\n",
       "          const docLink = document.createElement('div');\n",
       "          docLink.innerHTML = docLinkHtml;\n",
       "          element.appendChild(docLink);\n",
       "        }\n",
       "      </script>\n",
       "    </div>\n",
       "  </div>\n",
       "  "
      ],
      "text/plain": [
       "   user_id  price_to_order_conv  group\n",
       "0   100093                 50.0      1\n",
       "1   100118                100.0      1\n",
       "2   100134                100.0      0\n",
       "3   100166                100.0      1\n",
       "4   100255                  0.0      0"
      ]
     },
     "execution_count": 5,
     "metadata": {},
     "output_type": "execute_result"
    }
   ],
   "source": [
    "#находим конверсию в заказ\n",
    "df_surge['price_to_order_conv'] = round(df_surge.order_made / df_surge.price_seen,2) * 100\n",
    "\n",
    "#находим среднюю конверсию относительно юзера (чтобы не было повторных вхождений юзера в выборки)\n",
    "df_surge_by_user = df_surge.groupby('user_id', as_index=False).agg({'price_to_order_conv': 'mean'})\n",
    "\n",
    "\n",
    "df_surge_by_user['group'] = np.random.randint(2, size=len(df_surge_by_user['price_to_order_conv'])) #колонка с рандом знач\n",
    "df_surge_by_user.group.value_counts()\n",
    "df_surge_by_user.head()"
   ]
  },
  {
   "cell_type": "code",
   "execution_count": 7,
   "metadata": {
    "executionInfo": {
     "elapsed": 12,
     "status": "ok",
     "timestamp": 1671130557581,
     "user": {
      "displayName": "Александр Бундыч",
      "userId": "11932459224027420021"
     },
     "user_tz": -180
    },
    "id": "pi-VDFYq1uKT"
   },
   "outputs": [],
   "source": [
    "#разбили датафрейм по группам 0-контрольная, 1-тестовая\n",
    "group_0 = df_surge_by_user.query(\"group == 0\")\n",
    "group_1 = df_surge_by_user.query(\"group == 1\")"
   ]
  },
  {
   "cell_type": "code",
   "execution_count": 8,
   "metadata": {
    "colab": {
     "base_uri": "https://localhost:8080/"
    },
    "executionInfo": {
     "elapsed": 12,
     "status": "ok",
     "timestamp": 1671130557582,
     "user": {
      "displayName": "Александр Бундыч",
      "userId": "11932459224027420021"
     },
     "user_tz": -180
    },
    "id": "HvDvjA08R5zT",
    "outputId": "155dacbb-31c6-47fa-ef4b-36d62021b325"
   },
   "outputs": [
    {
     "name": "stdout",
     "output_type": "stream",
     "text": [
      "кол-во наблюдений в group_0 = 8916\n",
      "кол-во наблюдений в group_1 = 8864\n",
      "общее кол-во наблюдений = 17780\n",
      "средняя поюзерная конверсия (контрольная группа) = 72.61\n",
      "средняя поюзерная конверсия (тестовая группа) = 72.09\n"
     ]
    }
   ],
   "source": [
    "print('кол-во наблюдений в group_0 =', len(group_0))\n",
    "print('кол-во наблюдений в group_1 =', len(group_1))\n",
    "print('общее кол-во наблюдений =', len(group_1) + len(group_0)) #проверка что никто не потерялся\n",
    "print('средняя поюзерная конверсия (контрольная группа) =', round(group_0.price_to_order_conv.mean(),2))\n",
    "\n",
    "print('средняя поюзерная конверсия (тестовая группа) =', round(group_1.price_to_order_conv.mean(),2))"
   ]
  },
  {
   "cell_type": "markdown",
   "metadata": {
    "id": "dT723k445uZM"
   },
   "source": [
    "УСЛОВИЯ\n",
    "\n",
    "H_0: средние конверсии в 2х группах одинаковые\n",
    "\n",
    "H_1: средние конверсии в 2х группах различны\n",
    "\n",
    "\n",
    "p-value > alpha: принимаем H_0\n",
    "\n",
    "p-value < alpha: отклоняем H_0\n"
   ]
  },
  {
   "cell_type": "code",
   "execution_count": 9,
   "metadata": {
    "colab": {
     "base_uri": "https://localhost:8080/"
    },
    "executionInfo": {
     "elapsed": 11,
     "status": "ok",
     "timestamp": 1671130557582,
     "user": {
      "displayName": "Александр Бундыч",
      "userId": "11932459224027420021"
     },
     "user_tz": -180
    },
    "id": "Ng-PVZLp2X1k",
    "outputId": "4f0b7955-047e-4095-b9e6-10bee6706777"
   },
   "outputs": [
    {
     "data": {
      "text/plain": [
       "Ttest_indResult(statistic=0.9276197614651656, pvalue=0.3536174364490656)"
      ]
     },
     "execution_count": 9,
     "metadata": {},
     "output_type": "execute_result"
    }
   ],
   "source": [
    "#t-тест средних конверсий\n",
    "alpha = 0.05\n",
    "ttest_ind(group_0['price_to_order_conv'], group_1['price_to_order_conv'])"
   ]
  },
  {
   "cell_type": "code",
   "execution_count": 10,
   "metadata": {
    "colab": {
     "base_uri": "https://localhost:8080/"
    },
    "executionInfo": {
     "elapsed": 9,
     "status": "ok",
     "timestamp": 1671130557583,
     "user": {
      "displayName": "Александр Бундыч",
      "userId": "11932459224027420021"
     },
     "user_tz": -180
    },
    "id": "C6Y-SCTQKR5O",
    "outputId": "38660c50-414f-4825-88e4-9f267357f2db"
   },
   "outputs": [
    {
     "name": "stdout",
     "output_type": "stream",
     "text": [
      "p-value 0.35 > alpha 0.05\n",
      "Принимаем H_0 - средние выборок равны.\n",
      "Группы равномерные и их можно использовать для дальнейшего a/b теста \n"
     ]
    }
   ],
   "source": [
    "t = ttest_ind(group_0['price_to_order_conv'], group_1['price_to_order_conv'])\n",
    "if t.pvalue > alpha:\n",
    "  print(f'p-value {round(t.pvalue, 2)} > alpha {round(alpha, 2)}\\nПринимаем H_0 - средние выборок равны.\\nГруппы равномерные и их можно использовать для дальнейшего a/b теста ')\n",
    "else:\n",
    "  print(f'p-value {round(t.pvalue, 2)} < alpha {round(alpha, 2)}\\nОтклоняем H_0 - средние выборок не равны\\nГруппы не равномерные. Необходимо пересмотреть разделение на группы')"
   ]
  },
  {
   "cell_type": "code",
   "execution_count": 10,
   "metadata": {
    "executionInfo": {
     "elapsed": 7,
     "status": "ok",
     "timestamp": 1671130557583,
     "user": {
      "displayName": "Александр Бундыч",
      "userId": "11932459224027420021"
     },
     "user_tz": -180
    },
    "id": "8AUEn8kD5tuR"
   },
   "outputs": [],
   "source": []
  },
  {
   "cell_type": "markdown",
   "metadata": {
    "id": "dUIHEcQP8shD"
   },
   "source": [
    "**Пробуем провести бутстрап для групп group_0 и group_1**"
   ]
  },
  {
   "cell_type": "code",
   "execution_count": 11,
   "metadata": {
    "colab": {
     "base_uri": "https://localhost:8080/",
     "height": 352
    },
    "executionInfo": {
     "elapsed": 493,
     "status": "ok",
     "timestamp": 1671130558069,
     "user": {
      "displayName": "Александр Бундыч",
      "userId": "11932459224027420021"
     },
     "user_tz": -180
    },
    "id": "2EgC2Fjl80fb",
    "outputId": "085d4321-b1d5-4454-89b5-50ce7ec4a230"
   },
   "outputs": [
    {
     "data": {
      "text/plain": [
       "(array([ 2.,  1.,  7., 10., 16., 22., 22., 10.,  8.,  2.]),\n",
       " array([-1.98229874, -1.71632692, -1.4503551 , -1.18438328, -0.91841146,\n",
       "        -0.65243964, -0.38646782, -0.120496  ,  0.14547582,  0.41144764,\n",
       "         0.67741946]),\n",
       " <a list of 10 Patch objects>)"
      ]
     },
     "execution_count": 11,
     "metadata": {},
     "output_type": "execute_result"
    },
    {
     "data": {
      "image/png": "[encoded data removed]",
      "text/plain": [
       "<Figure size 432x288 with 1 Axes>"
      ]
     },
     "metadata": {
      "needs_background": "light"
     },
     "output_type": "display_data"
    }
   ],
   "source": [
    "p_diffs = []\n",
    "for i in range(100):\n",
    "    sample_new_mean = group_1.sample(frac=1, replace=True)['price_to_order_conv'].mean()\n",
    "    sample_old_mean = group_0.sample(frac=1, replace=True)['price_to_order_conv'].mean()\n",
    "    p_diffs.append(sample_new_mean - sample_old_mean)\n",
    "plt.hist(p_diffs)"
   ]
  },
  {
   "cell_type": "code",
   "execution_count": 12,
   "metadata": {
    "executionInfo": {
     "elapsed": 22,
     "status": "ok",
     "timestamp": 1671130558071,
     "user": {
      "displayName": "Александр Бундыч",
      "userId": "11932459224027420021"
     },
     "user_tz": -180
    },
    "id": "8QcPqFGT9aEE"
   },
   "outputs": [],
   "source": [
    "#переводим list p_diffs в df\n",
    "\n",
    "p_diffs=pd.DataFrame(p_diffs)\n",
    "p_diffs.columns=['mean_of_metric']"
   ]
  },
  {
   "cell_type": "markdown",
   "metadata": {
    "id": "b2F9QOsw_XAN"
   },
   "source": [
    "**Расчет границ доверительного интервала**"
   ]
  },
  {
   "cell_type": "code",
   "execution_count": 13,
   "metadata": {
    "colab": {
     "base_uri": "https://localhost:8080/"
    },
    "executionInfo": {
     "elapsed": 22,
     "status": "ok",
     "timestamp": 1671130558071,
     "user": {
      "displayName": "Александр Бундыч",
      "userId": "11932459224027420021"
     },
     "user_tz": -180
    },
    "id": "0teyoaU37y0q",
    "outputId": "ac58e508-1b3a-4c9c-946c-5d82b6f8e120"
   },
   "outputs": [
    {
     "name": "stdout",
     "output_type": "stream",
     "text": [
      "Граница доверительного интервала: -1.499 0.291\n"
     ]
    }
   ],
   "source": [
    "alpha = 0.05 #уровень значимости (вероятность ошибочно отклонить H_0)\n",
    "A = round(p_diffs['mean_of_metric'].quantile(alpha/2),3) #левая граница\n",
    "B = round(p_diffs['mean_of_metric'].quantile(1-alpha/2),3) #правая граница\n",
    "print('Граница доверительного интервала:',A,B)"
   ]
  },
  {
   "cell_type": "code",
   "execution_count": 14,
   "metadata": {
    "colab": {
     "base_uri": "https://localhost:8080/"
    },
    "executionInfo": {
     "elapsed": 21,
     "status": "ok",
     "timestamp": 1671130558072,
     "user": {
      "displayName": "Александр Бундыч",
      "userId": "11932459224027420021"
     },
     "user_tz": -180
    },
    "id": "eC9C3NEzLjHS",
    "outputId": "f7a32794-f140-4fbc-8860-e4cc5d13de81"
   },
   "outputs": [
    {
     "name": "stdout",
     "output_type": "stream",
     "text": [
      "\"0\" находится внутри интервала [-1.499 ; 0.291]. \n",
      "Принимаем H_0 - средние выборок равны.\n",
      "Группы равномерные и их можно использовать для дальнейшего a/b теста\n"
     ]
    }
   ],
   "source": [
    "if A < 0 < B:\n",
    "  print(f'\"0\" находится внутри интервала [{A} ; {B}]. \\nПринимаем H_0 - средние выборок равны.\\nГруппы равномерные и их можно использовать для дальнейшего a/b теста')\n",
    "else:\n",
    "  print(f'0 находится за границей интервала [{A} ; {B}]. \\nОтвергаем H_0 - средние выборок неравны.\\nГруппы не равномерные. Необходимо пересмотреть разделение на группы')"
   ]
  },
  {
   "cell_type": "code",
   "execution_count": 14,
   "metadata": {
    "executionInfo": {
     "elapsed": 20,
     "status": "ok",
     "timestamp": 1671130558073,
     "user": {
      "displayName": "Александр Бундыч",
      "userId": "11932459224027420021"
     },
     "user_tz": -180
    },
    "id": "CsRvtkVZGa13"
   },
   "outputs": [],
   "source": []
  },
  {
   "cell_type": "markdown",
   "metadata": {
    "id": "6WR_Q3QVGbSn"
   },
   "source": [
    "НАБЛЮДЕНИЕ_2: Если Comfort & Business классы, то более низкие юзерские отмены, более длинные поездки\n",
    "\n",
    "ГИПОТЕЗА: Если понизить стоимость поездки на бизнес класс на 5%, то средняя дистанция уменьшится (т.е. пользователи будут чаще выбирать бизнес и на более короткие поездки)"
   ]
  },
  {
   "cell_type": "code",
   "execution_count": 15,
   "metadata": {
    "colab": {
     "base_uri": "https://localhost:8080/",
     "height": 143
    },
    "executionInfo": {
     "elapsed": 21,
     "status": "ok",
     "timestamp": 1671130558074,
     "user": {
      "displayName": "Александр Бундыч",
      "userId": "11932459224027420021"
     },
     "user_tz": -180
    },
    "id": "AnMc_Q_gA2pz",
    "outputId": "317a8089-d3cd-425a-ea29-10eb4461846d"
   },
   "outputs": [
    {
     "data": {
      "text/html": [
       "\n",
       "  <div id=\"df-fd674b36-d57d-47d1-841d-2086cb059309\">\n",
       "    <div class=\"colab-df-container\">\n",
       "      <div>\n",
       "<style scoped>\n",
       "    .dataframe tbody tr th:only-of-type {\n",
       "        vertical-align: middle;\n",
       "    }\n",
       "\n",
       "    .dataframe tbody tr th {\n",
       "        vertical-align: top;\n",
       "    }\n",
       "\n",
       "    .dataframe thead th {\n",
       "        text-align: right;\n",
       "    }\n",
       "</style>\n",
       "<table border=\"1\" class=\"dataframe\">\n",
       "  <thead>\n",
       "    <tr style=\"text-align: right;\">\n",
       "      <th></th>\n",
       "      <th>order_class</th>\n",
       "      <th>distance</th>\n",
       "    </tr>\n",
       "  </thead>\n",
       "  <tbody>\n",
       "    <tr>\n",
       "      <th>0</th>\n",
       "      <td>business</td>\n",
       "      <td>12.013842</td>\n",
       "    </tr>\n",
       "    <tr>\n",
       "      <th>1</th>\n",
       "      <td>comfort</td>\n",
       "      <td>5.025267</td>\n",
       "    </tr>\n",
       "    <tr>\n",
       "      <th>2</th>\n",
       "      <td>economy</td>\n",
       "      <td>3.997445</td>\n",
       "    </tr>\n",
       "  </tbody>\n",
       "</table>\n",
       "</div>\n",
       "      <button class=\"colab-df-convert\" onclick=\"convertToInteractive('df-fd674b36-d57d-47d1-841d-2086cb059309')\"\n",
       "              title=\"Convert this dataframe to an interactive table.\"\n",
       "              style=\"display:none;\">\n",
       "        \n",
       "  <svg xmlns=\"http://www.w3.org/2000/svg\" height=\"24px\"viewBox=\"0 0 24 24\"\n",
       "       width=\"24px\">\n",
       "    <path d=\"M0 0h24v24H0V0z\" fill=\"none\"/>\n",
       "    <path d=\"M18.56 5.44l.94 2.06.94-2.06 2.06-.94-2.06-.94-.94-2.06-.94 2.06-2.06.94zm-11 1L8.5 8.5l.94-2.06 2.06-.94-2.06-.94L8.5 2.5l-.94 2.06-2.06.94zm10 10l.94 2.06.94-2.06 2.06-.94-2.06-.94-.94-2.06-.94 2.06-2.06.94z\"/><path d=\"M17.41 7.96l-1.37-1.37c-.4-.4-.92-.59-1.43-.59-.52 0-1.04.2-1.43.59L10.3 9.45l-7.72 7.72c-.78.78-.78 2.05 0 2.83L4 21.41c.39.39.9.59 1.41.59.51 0 1.02-.2 1.41-.59l7.78-7.78 2.81-2.81c.8-.78.8-2.07 0-2.86zM5.41 20L4 18.59l7.72-7.72 1.47 1.35L5.41 20z\"/>\n",
       "  </svg>\n",
       "      </button>\n",
       "      \n",
       "  <style>\n",
       "    .colab-df-container {\n",
       "      display:flex;\n",
       "      flex-wrap:wrap;\n",
       "      gap: 12px;\n",
       "    }\n",
       "\n",
       "    .colab-df-convert {\n",
       "      background-color: #E8F0FE;\n",
       "      border: none;\n",
       "      border-radius: 50%;\n",
       "      cursor: pointer;\n",
       "      display: none;\n",
       "      fill: #1967D2;\n",
       "      height: 32px;\n",
       "      padding: 0 0 0 0;\n",
       "      width: 32px;\n",
       "    }\n",
       "\n",
       "    .colab-df-convert:hover {\n",
       "      background-color: #E2EBFA;\n",
       "      box-shadow: 0px 1px 2px rgba(60, 64, 67, 0.3), 0px 1px 3px 1px rgba(60, 64, 67, 0.15);\n",
       "      fill: #174EA6;\n",
       "    }\n",
       "\n",
       "    [theme=dark] .colab-df-convert {\n",
       "      background-color: #3B4455;\n",
       "      fill: #D2E3FC;\n",
       "    }\n",
       "\n",
       "    [theme=dark] .colab-df-convert:hover {\n",
       "      background-color: #434B5C;\n",
       "      box-shadow: 0px 1px 3px 1px rgba(0, 0, 0, 0.15);\n",
       "      filter: drop-shadow(0px 1px 2px rgba(0, 0, 0, 0.3));\n",
       "      fill: #FFFFFF;\n",
       "    }\n",
       "  </style>\n",
       "\n",
       "      <script>\n",
       "        const buttonEl =\n",
       "          document.querySelector('#df-fd674b36-d57d-47d1-841d-2086cb059309 button.colab-df-convert');\n",
       "        buttonEl.style.display =\n",
       "          google.colab.kernel.accessAllowed ? 'block' : 'none';\n",
       "\n",
       "        async function convertToInteractive(key) {\n",
       "          const element = document.querySelector('#df-fd674b36-d57d-47d1-841d-2086cb059309');\n",
       "          const dataTable =\n",
       "            await google.colab.kernel.invokeFunction('convertToInteractive',\n",
       "                                                     [key], {});\n",
       "          if (!dataTable) return;\n",
       "\n",
       "          const docLinkHtml = 'Like what you see? Visit the ' +\n",
       "            '<a target=\"_blank\" href=https://colab.research.google.com/notebooks/data_table.ipynb>data table notebook</a>'\n",
       "            + ' to learn more about interactive tables.';\n",
       "          element.innerHTML = '';\n",
       "          dataTable['output_type'] = 'display_data';\n",
       "          await google.colab.output.renderOutput(dataTable, element);\n",
       "          const docLink = document.createElement('div');\n",
       "          docLink.innerHTML = docLinkHtml;\n",
       "          element.appendChild(docLink);\n",
       "        }\n",
       "      </script>\n",
       "    </div>\n",
       "  </div>\n",
       "  "
      ],
      "text/plain": [
       "  order_class   distance\n",
       "0    business  12.013842\n",
       "1     comfort   5.025267\n",
       "2     economy   3.997445"
      ]
     },
     "execution_count": 15,
     "metadata": {},
     "output_type": "execute_result"
    }
   ],
   "source": [
    "#длина поездки в разбивке по классам\n",
    "df.groupby('order_class',as_index=False).agg({'distance':'mean'})"
   ]
  },
  {
   "cell_type": "code",
   "execution_count": 16,
   "metadata": {
    "colab": {
     "base_uri": "https://localhost:8080/",
     "height": 340
    },
    "executionInfo": {
     "elapsed": 21,
     "status": "ok",
     "timestamp": 1671130558074,
     "user": {
      "displayName": "Александр Бундыч",
      "userId": "11932459224027420021"
     },
     "user_tz": -180
    },
    "id": "S4Oph1yXGFZa",
    "outputId": "919e82f3-c673-4302-9dce-1ba82bfa6423"
   },
   "outputs": [
    {
     "data": {
      "text/html": [
       "\n",
       "  <div id=\"df-f53421c5-acf8-4512-8eab-0dead72c9bbd\">\n",
       "    <div class=\"colab-df-container\">\n",
       "      <div>\n",
       "<style scoped>\n",
       "    .dataframe tbody tr th:only-of-type {\n",
       "        vertical-align: middle;\n",
       "    }\n",
       "\n",
       "    .dataframe tbody tr th {\n",
       "        vertical-align: top;\n",
       "    }\n",
       "\n",
       "    .dataframe thead th {\n",
       "        text-align: right;\n",
       "    }\n",
       "</style>\n",
       "<table border=\"1\" class=\"dataframe\">\n",
       "  <thead>\n",
       "    <tr style=\"text-align: right;\">\n",
       "      <th></th>\n",
       "      <th>user_id</th>\n",
       "      <th>hour</th>\n",
       "      <th>os</th>\n",
       "      <th>order_class</th>\n",
       "      <th>surge</th>\n",
       "      <th>app_opened</th>\n",
       "      <th>price_seen</th>\n",
       "      <th>order_made</th>\n",
       "      <th>ride_completed</th>\n",
       "      <th>user_cancelled</th>\n",
       "      <th>city_center_order</th>\n",
       "      <th>distance</th>\n",
       "      <th>age</th>\n",
       "      <th>rfm</th>\n",
       "    </tr>\n",
       "  </thead>\n",
       "  <tbody>\n",
       "    <tr>\n",
       "      <th>0</th>\n",
       "      <td>867689</td>\n",
       "      <td>12</td>\n",
       "      <td>iOS</td>\n",
       "      <td>business</td>\n",
       "      <td>no surge</td>\n",
       "      <td>1</td>\n",
       "      <td>1</td>\n",
       "      <td>1</td>\n",
       "      <td>1</td>\n",
       "      <td>0</td>\n",
       "      <td>0</td>\n",
       "      <td>7.982135</td>\n",
       "      <td>20</td>\n",
       "      <td>low</td>\n",
       "    </tr>\n",
       "    <tr>\n",
       "      <th>4</th>\n",
       "      <td>139420</td>\n",
       "      <td>0</td>\n",
       "      <td>Android</td>\n",
       "      <td>business</td>\n",
       "      <td>no surge</td>\n",
       "      <td>1</td>\n",
       "      <td>1</td>\n",
       "      <td>1</td>\n",
       "      <td>1</td>\n",
       "      <td>0</td>\n",
       "      <td>0</td>\n",
       "      <td>10.704778</td>\n",
       "      <td>19</td>\n",
       "      <td>low</td>\n",
       "    </tr>\n",
       "    <tr>\n",
       "      <th>22</th>\n",
       "      <td>667749</td>\n",
       "      <td>5</td>\n",
       "      <td>Android</td>\n",
       "      <td>business</td>\n",
       "      <td>no surge</td>\n",
       "      <td>1</td>\n",
       "      <td>1</td>\n",
       "      <td>1</td>\n",
       "      <td>0</td>\n",
       "      <td>1</td>\n",
       "      <td>1</td>\n",
       "      <td>5.612632</td>\n",
       "      <td>23</td>\n",
       "      <td>low</td>\n",
       "    </tr>\n",
       "    <tr>\n",
       "      <th>40</th>\n",
       "      <td>449906</td>\n",
       "      <td>9</td>\n",
       "      <td>iOS</td>\n",
       "      <td>business</td>\n",
       "      <td>no surge</td>\n",
       "      <td>1</td>\n",
       "      <td>1</td>\n",
       "      <td>1</td>\n",
       "      <td>1</td>\n",
       "      <td>0</td>\n",
       "      <td>1</td>\n",
       "      <td>12.089362</td>\n",
       "      <td>22</td>\n",
       "      <td>high</td>\n",
       "    </tr>\n",
       "    <tr>\n",
       "      <th>45</th>\n",
       "      <td>683124</td>\n",
       "      <td>11</td>\n",
       "      <td>iOS</td>\n",
       "      <td>business</td>\n",
       "      <td>surge</td>\n",
       "      <td>1</td>\n",
       "      <td>1</td>\n",
       "      <td>1</td>\n",
       "      <td>1</td>\n",
       "      <td>0</td>\n",
       "      <td>1</td>\n",
       "      <td>15.155294</td>\n",
       "      <td>20</td>\n",
       "      <td>high</td>\n",
       "    </tr>\n",
       "  </tbody>\n",
       "</table>\n",
       "</div>\n",
       "      <button class=\"colab-df-convert\" onclick=\"convertToInteractive('df-f53421c5-acf8-4512-8eab-0dead72c9bbd')\"\n",
       "              title=\"Convert this dataframe to an interactive table.\"\n",
       "              style=\"display:none;\">\n",
       "        \n",
       "  <svg xmlns=\"http://www.w3.org/2000/svg\" height=\"24px\"viewBox=\"0 0 24 24\"\n",
       "       width=\"24px\">\n",
       "    <path d=\"M0 0h24v24H0V0z\" fill=\"none\"/>\n",
       "    <path d=\"M18.56 5.44l.94 2.06.94-2.06 2.06-.94-2.06-.94-.94-2.06-.94 2.06-2.06.94zm-11 1L8.5 8.5l.94-2.06 2.06-.94-2.06-.94L8.5 2.5l-.94 2.06-2.06.94zm10 10l.94 2.06.94-2.06 2.06-.94-2.06-.94-.94-2.06-.94 2.06-2.06.94z\"/><path d=\"M17.41 7.96l-1.37-1.37c-.4-.4-.92-.59-1.43-.59-.52 0-1.04.2-1.43.59L10.3 9.45l-7.72 7.72c-.78.78-.78 2.05 0 2.83L4 21.41c.39.39.9.59 1.41.59.51 0 1.02-.2 1.41-.59l7.78-7.78 2.81-2.81c.8-.78.8-2.07 0-2.86zM5.41 20L4 18.59l7.72-7.72 1.47 1.35L5.41 20z\"/>\n",
       "  </svg>\n",
       "      </button>\n",
       "      \n",
       "  <style>\n",
       "    .colab-df-container {\n",
       "      display:flex;\n",
       "      flex-wrap:wrap;\n",
       "      gap: 12px;\n",
       "    }\n",
       "\n",
       "    .colab-df-convert {\n",
       "      background-color: #E8F0FE;\n",
       "      border: none;\n",
       "      border-radius: 50%;\n",
       "      cursor: pointer;\n",
       "      display: none;\n",
       "      fill: #1967D2;\n",
       "      height: 32px;\n",
       "      padding: 0 0 0 0;\n",
       "      width: 32px;\n",
       "    }\n",
       "\n",
       "    .colab-df-convert:hover {\n",
       "      background-color: #E2EBFA;\n",
       "      box-shadow: 0px 1px 2px rgba(60, 64, 67, 0.3), 0px 1px 3px 1px rgba(60, 64, 67, 0.15);\n",
       "      fill: #174EA6;\n",
       "    }\n",
       "\n",
       "    [theme=dark] .colab-df-convert {\n",
       "      background-color: #3B4455;\n",
       "      fill: #D2E3FC;\n",
       "    }\n",
       "\n",
       "    [theme=dark] .colab-df-convert:hover {\n",
       "      background-color: #434B5C;\n",
       "      box-shadow: 0px 1px 3px 1px rgba(0, 0, 0, 0.15);\n",
       "      filter: drop-shadow(0px 1px 2px rgba(0, 0, 0, 0.3));\n",
       "      fill: #FFFFFF;\n",
       "    }\n",
       "  </style>\n",
       "\n",
       "      <script>\n",
       "        const buttonEl =\n",
       "          document.querySelector('#df-f53421c5-acf8-4512-8eab-0dead72c9bbd button.colab-df-convert');\n",
       "        buttonEl.style.display =\n",
       "          google.colab.kernel.accessAllowed ? 'block' : 'none';\n",
       "\n",
       "        async function convertToInteractive(key) {\n",
       "          const element = document.querySelector('#df-f53421c5-acf8-4512-8eab-0dead72c9bbd');\n",
       "          const dataTable =\n",
       "            await google.colab.kernel.invokeFunction('convertToInteractive',\n",
       "                                                     [key], {});\n",
       "          if (!dataTable) return;\n",
       "\n",
       "          const docLinkHtml = 'Like what you see? Visit the ' +\n",
       "            '<a target=\"_blank\" href=https://colab.research.google.com/notebooks/data_table.ipynb>data table notebook</a>'\n",
       "            + ' to learn more about interactive tables.';\n",
       "          element.innerHTML = '';\n",
       "          dataTable['output_type'] = 'display_data';\n",
       "          await google.colab.output.renderOutput(dataTable, element);\n",
       "          const docLink = document.createElement('div');\n",
       "          docLink.innerHTML = docLinkHtml;\n",
       "          element.appendChild(docLink);\n",
       "        }\n",
       "      </script>\n",
       "    </div>\n",
       "  </div>\n",
       "  "
      ],
      "text/plain": [
       "    user_id  hour       os order_class     surge  app_opened  price_seen  \\\n",
       "0    867689    12      iOS    business  no surge           1           1   \n",
       "4    139420     0  Android    business  no surge           1           1   \n",
       "22   667749     5  Android    business  no surge           1           1   \n",
       "40   449906     9      iOS    business  no surge           1           1   \n",
       "45   683124    11      iOS    business     surge           1           1   \n",
       "\n",
       "    order_made  ride_completed  user_cancelled  city_center_order   distance  \\\n",
       "0            1               1               0                  0   7.982135   \n",
       "4            1               1               0                  0  10.704778   \n",
       "22           1               0               1                  1   5.612632   \n",
       "40           1               1               0                  1  12.089362   \n",
       "45           1               1               0                  1  15.155294   \n",
       "\n",
       "    age   rfm  \n",
       "0    20   low  \n",
       "4    19   low  \n",
       "22   23   low  \n",
       "40   22  high  \n",
       "45   20  high  "
      ]
     },
     "execution_count": 16,
     "metadata": {},
     "output_type": "execute_result"
    }
   ],
   "source": [
    "df_business = df.query(\"order_class == 'business' and order_made == 1\")\n",
    "df_business.head()"
   ]
  },
  {
   "cell_type": "code",
   "execution_count": 18,
   "metadata": {
    "colab": {
     "base_uri": "https://localhost:8080/",
     "height": 206
    },
    "executionInfo": {
     "elapsed": 14,
     "status": "ok",
     "timestamp": 1671130558558,
     "user": {
      "displayName": "Александр Бундыч",
      "userId": "11932459224027420021"
     },
     "user_tz": -180
    },
    "id": "2yLFRA8CH6RI",
    "outputId": "61a98773-2760-4656-cbf2-9cd163cf9719"
   },
   "outputs": [
    {
     "data": {
      "text/html": [
       "\n",
       "  <div id=\"df-b1f27e39-bef6-461a-aa31-18824af1b792\">\n",
       "    <div class=\"colab-df-container\">\n",
       "      <div>\n",
       "<style scoped>\n",
       "    .dataframe tbody tr th:only-of-type {\n",
       "        vertical-align: middle;\n",
       "    }\n",
       "\n",
       "    .dataframe tbody tr th {\n",
       "        vertical-align: top;\n",
       "    }\n",
       "\n",
       "    .dataframe thead th {\n",
       "        text-align: right;\n",
       "    }\n",
       "</style>\n",
       "<table border=\"1\" class=\"dataframe\">\n",
       "  <thead>\n",
       "    <tr style=\"text-align: right;\">\n",
       "      <th></th>\n",
       "      <th>user_id</th>\n",
       "      <th>distance_mean</th>\n",
       "      <th>group</th>\n",
       "    </tr>\n",
       "  </thead>\n",
       "  <tbody>\n",
       "    <tr>\n",
       "      <th>0</th>\n",
       "      <td>100134</td>\n",
       "      <td>13.714453</td>\n",
       "      <td>0</td>\n",
       "    </tr>\n",
       "    <tr>\n",
       "      <th>1</th>\n",
       "      <td>100424</td>\n",
       "      <td>22.763366</td>\n",
       "      <td>1</td>\n",
       "    </tr>\n",
       "    <tr>\n",
       "      <th>2</th>\n",
       "      <td>100463</td>\n",
       "      <td>9.949819</td>\n",
       "      <td>1</td>\n",
       "    </tr>\n",
       "    <tr>\n",
       "      <th>3</th>\n",
       "      <td>100643</td>\n",
       "      <td>12.505037</td>\n",
       "      <td>0</td>\n",
       "    </tr>\n",
       "    <tr>\n",
       "      <th>4</th>\n",
       "      <td>100675</td>\n",
       "      <td>13.270409</td>\n",
       "      <td>0</td>\n",
       "    </tr>\n",
       "  </tbody>\n",
       "</table>\n",
       "</div>\n",
       "      <button class=\"colab-df-convert\" onclick=\"convertToInteractive('df-b1f27e39-bef6-461a-aa31-18824af1b792')\"\n",
       "              title=\"Convert this dataframe to an interactive table.\"\n",
       "              style=\"display:none;\">\n",
       "        \n",
       "  <svg xmlns=\"http://www.w3.org/2000/svg\" height=\"24px\"viewBox=\"0 0 24 24\"\n",
       "       width=\"24px\">\n",
       "    <path d=\"M0 0h24v24H0V0z\" fill=\"none\"/>\n",
       "    <path d=\"M18.56 5.44l.94 2.06.94-2.06 2.06-.94-2.06-.94-.94-2.06-.94 2.06-2.06.94zm-11 1L8.5 8.5l.94-2.06 2.06-.94-2.06-.94L8.5 2.5l-.94 2.06-2.06.94zm10 10l.94 2.06.94-2.06 2.06-.94-2.06-.94-.94-2.06-.94 2.06-2.06.94z\"/><path d=\"M17.41 7.96l-1.37-1.37c-.4-.4-.92-.59-1.43-.59-.52 0-1.04.2-1.43.59L10.3 9.45l-7.72 7.72c-.78.78-.78 2.05 0 2.83L4 21.41c.39.39.9.59 1.41.59.51 0 1.02-.2 1.41-.59l7.78-7.78 2.81-2.81c.8-.78.8-2.07 0-2.86zM5.41 20L4 18.59l7.72-7.72 1.47 1.35L5.41 20z\"/>\n",
       "  </svg>\n",
       "      </button>\n",
       "      \n",
       "  <style>\n",
       "    .colab-df-container {\n",
       "      display:flex;\n",
       "      flex-wrap:wrap;\n",
       "      gap: 12px;\n",
       "    }\n",
       "\n",
       "    .colab-df-convert {\n",
       "      background-color: #E8F0FE;\n",
       "      border: none;\n",
       "      border-radius: 50%;\n",
       "      cursor: pointer;\n",
       "      display: none;\n",
       "      fill: #1967D2;\n",
       "      height: 32px;\n",
       "      padding: 0 0 0 0;\n",
       "      width: 32px;\n",
       "    }\n",
       "\n",
       "    .colab-df-convert:hover {\n",
       "      background-color: #E2EBFA;\n",
       "      box-shadow: 0px 1px 2px rgba(60, 64, 67, 0.3), 0px 1px 3px 1px rgba(60, 64, 67, 0.15);\n",
       "      fill: #174EA6;\n",
       "    }\n",
       "\n",
       "    [theme=dark] .colab-df-convert {\n",
       "      background-color: #3B4455;\n",
       "      fill: #D2E3FC;\n",
       "    }\n",
       "\n",
       "    [theme=dark] .colab-df-convert:hover {\n",
       "      background-color: #434B5C;\n",
       "      box-shadow: 0px 1px 3px 1px rgba(0, 0, 0, 0.15);\n",
       "      filter: drop-shadow(0px 1px 2px rgba(0, 0, 0, 0.3));\n",
       "      fill: #FFFFFF;\n",
       "    }\n",
       "  </style>\n",
       "\n",
       "      <script>\n",
       "        const buttonEl =\n",
       "          document.querySelector('#df-b1f27e39-bef6-461a-aa31-18824af1b792 button.colab-df-convert');\n",
       "        buttonEl.style.display =\n",
       "          google.colab.kernel.accessAllowed ? 'block' : 'none';\n",
       "\n",
       "        async function convertToInteractive(key) {\n",
       "          const element = document.querySelector('#df-b1f27e39-bef6-461a-aa31-18824af1b792');\n",
       "          const dataTable =\n",
       "            await google.colab.kernel.invokeFunction('convertToInteractive',\n",
       "                                                     [key], {});\n",
       "          if (!dataTable) return;\n",
       "\n",
       "          const docLinkHtml = 'Like what you see? Visit the ' +\n",
       "            '<a target=\"_blank\" href=https://colab.research.google.com/notebooks/data_table.ipynb>data table notebook</a>'\n",
       "            + ' to learn more about interactive tables.';\n",
       "          element.innerHTML = '';\n",
       "          dataTable['output_type'] = 'display_data';\n",
       "          await google.colab.output.renderOutput(dataTable, element);\n",
       "          const docLink = document.createElement('div');\n",
       "          docLink.innerHTML = docLinkHtml;\n",
       "          element.appendChild(docLink);\n",
       "        }\n",
       "      </script>\n",
       "    </div>\n",
       "  </div>\n",
       "  "
      ],
      "text/plain": [
       "   user_id  distance_mean  group\n",
       "0   100134      13.714453      0\n",
       "1   100424      22.763366      1\n",
       "2   100463       9.949819      1\n",
       "3   100643      12.505037      0\n",
       "4   100675      13.270409      0"
      ]
     },
     "execution_count": 18,
     "metadata": {},
     "output_type": "execute_result"
    }
   ],
   "source": [
    "#находим средюю дистанцию для каждого юзера\n",
    "\n",
    "df_business = df_business.groupby('user_id', as_index=False) \\\n",
    "                        .agg({'distance': 'mean'}) \\\n",
    "                        .rename(columns={'distance':'distance_mean'}) \\\n",
    "                        .fillna(0) #заполнили нулями пустые ячейки в distance \n",
    "                                   #по идее их не должно быть если user_canceled == 0 )\n",
    "                \n",
    "\n",
    "df_business['group'] = np.random.randint(2, size=len(df_business['distance_mean'])) #колонка с рандом знач\n",
    "df_business.group.value_counts()\n",
    "df_business.head()"
   ]
  },
  {
   "cell_type": "code",
   "execution_count": 19,
   "metadata": {
    "executionInfo": {
     "elapsed": 14,
     "status": "ok",
     "timestamp": 1671130558559,
     "user": {
      "displayName": "Александр Бундыч",
      "userId": "11932459224027420021"
     },
     "user_tz": -180
    },
    "id": "2Sn9ifdtIvK3"
   },
   "outputs": [],
   "source": [
    "group_business_0 = df_business.query(\"group == 0\")\n",
    "group_business_1 = df_business.query(\"group == 1\")"
   ]
  },
  {
   "cell_type": "code",
   "execution_count": 20,
   "metadata": {
    "colab": {
     "base_uri": "https://localhost:8080/"
    },
    "executionInfo": {
     "elapsed": 15,
     "status": "ok",
     "timestamp": 1671130558560,
     "user": {
      "displayName": "Александр Бундыч",
      "userId": "11932459224027420021"
     },
     "user_tz": -180
    },
    "id": "-O3ukOC0N0GF",
    "outputId": "ceb01484-d5bf-4565-d6d5-b4faa277586f"
   },
   "outputs": [
    {
     "name": "stdout",
     "output_type": "stream",
     "text": [
      "кол-во наблюдений в group_business_0 = 3699\n",
      "кол-во наблюдений в group_business_1 = 3612\n",
      "средняя поюзерная дистанция (контрольная группа) = 12.01\n",
      "средняя поюзерная дистанция (тестовая группа) = 12.12\n"
     ]
    }
   ],
   "source": [
    "print('кол-во наблюдений в group_business_0 =', len(group_business_0))\n",
    "print('кол-во наблюдений в group_business_1 =', len(group_business_1))\n",
    "print('средняя поюзерная дистанция (контрольная группа) =', round(group_business_0.distance_mean.mean(),2))\n",
    "\n",
    "print('средняя поюзерная дистанция (тестовая группа) =', round(group_business_1.distance_mean.mean(),2))"
   ]
  },
  {
   "cell_type": "code",
   "execution_count": 21,
   "metadata": {
    "colab": {
     "base_uri": "https://localhost:8080/"
    },
    "executionInfo": {
     "elapsed": 13,
     "status": "ok",
     "timestamp": 1671130558560,
     "user": {
      "displayName": "Александр Бундыч",
      "userId": "11932459224027420021"
     },
     "user_tz": -180
    },
    "id": "y5et--paOwT5",
    "outputId": "dc4da5a4-0fc9-48c7-dbec-b930553e154b"
   },
   "outputs": [
    {
     "data": {
      "text/plain": [
       "Ttest_indResult(statistic=-1.048767931505353, pvalue=0.29431961749190616)"
      ]
     },
     "execution_count": 21,
     "metadata": {},
     "output_type": "execute_result"
    }
   ],
   "source": [
    "#t-тест средних конверсий\n",
    "alpha = 0.05\n",
    "ttest_ind(group_business_0['distance_mean'], group_business_1['distance_mean'])"
   ]
  },
  {
   "cell_type": "code",
   "execution_count": 22,
   "metadata": {
    "colab": {
     "base_uri": "https://localhost:8080/"
    },
    "executionInfo": {
     "elapsed": 14,
     "status": "ok",
     "timestamp": 1671130558562,
     "user": {
      "displayName": "Александр Бундыч",
      "userId": "11932459224027420021"
     },
     "user_tz": -180
    },
    "id": "HfDd8zOGPWGV",
    "outputId": "6a8178dc-0a47-4296-c91a-15d27656fa9f"
   },
   "outputs": [
    {
     "name": "stdout",
     "output_type": "stream",
     "text": [
      "p-value 0.29 > alpha 0.05\n",
      "Принимаем H_0 - средние выборок равны.\n",
      "Группы равномерные и их можно использовать для дальнейшего a/b теста \n"
     ]
    }
   ],
   "source": [
    "t = ttest_ind(group_business_0['distance_mean'], group_business_1['distance_mean'])\n",
    "if t.pvalue > alpha:\n",
    "  print(f'p-value {round(t.pvalue, 2)} > alpha {round(alpha, 2)}\\nПринимаем H_0 - средние выборок равны.\\nГруппы равномерные и их можно использовать для дальнейшего a/b теста ')\n",
    "else:\n",
    "  print(f'p-value {round(t.pvalue, 2)} < alpha {round(alpha, 2)}\\nОтклоняем H_0 - средние выборок не равны\\nГруппы не равномерные. Необходимо пересмотреть разделение на группы')"
   ]
  },
  {
   "cell_type": "code",
   "execution_count": 22,
   "metadata": {
    "executionInfo": {
     "elapsed": 13,
     "status": "ok",
     "timestamp": 1671130558563,
     "user": {
      "displayName": "Александр Бундыч",
      "userId": "11932459224027420021"
     },
     "user_tz": -180
    },
    "id": "MDacdVNkQY_8"
   },
   "outputs": [],
   "source": []
  },
  {
   "cell_type": "markdown",
   "metadata": {
    "id": "9se5vtXYUcYC"
   },
   "source": [
    "**Пробуем провести бутстрап для групп group_business_0 и group_business_1**"
   ]
  },
  {
   "cell_type": "code",
   "execution_count": 23,
   "metadata": {
    "colab": {
     "base_uri": "https://localhost:8080/",
     "height": 352
    },
    "executionInfo": {
     "elapsed": 14,
     "status": "ok",
     "timestamp": 1671130558564,
     "user": {
      "displayName": "Александр Бундыч",
      "userId": "11932459224027420021"
     },
     "user_tz": -180
    },
    "id": "wXJlX1j3QqbV",
    "outputId": "b11517c9-0efd-4df6-e4a8-f9a34fc75411"
   },
   "outputs": [
    {
     "data": {
      "text/plain": [
       "(array([ 4.,  3., 10., 24., 14., 25., 12.,  3.,  4.,  1.]),\n",
       " array([-0.15464653, -0.09733053, -0.04001454,  0.01730146,  0.07461745,\n",
       "         0.13193344,  0.18924944,  0.24656543,  0.30388143,  0.36119742,\n",
       "         0.41851342]),\n",
       " <a list of 10 Patch objects>)"
      ]
     },
     "execution_count": 23,
     "metadata": {},
     "output_type": "execute_result"
    },
    {
     "data": {
      "image/png": "[encoded data removed]",
      "text/plain": [
       "<Figure size 432x288 with 1 Axes>"
      ]
     },
     "metadata": {
      "needs_background": "light"
     },
     "output_type": "display_data"
    }
   ],
   "source": [
    "p_diffs = []\n",
    "for i in range(100):\n",
    "    sample_new_mean = group_business_1.sample(frac=1, replace=True)['distance_mean'].mean()\n",
    "    sample_old_mean = group_business_0.sample(frac=1, replace=True)['distance_mean'].mean()\n",
    "    p_diffs.append(sample_new_mean - sample_old_mean)\n",
    "plt.hist(p_diffs)"
   ]
  },
  {
   "cell_type": "code",
   "execution_count": 24,
   "metadata": {
    "colab": {
     "base_uri": "https://localhost:8080/"
    },
    "executionInfo": {
     "elapsed": 349,
     "status": "ok",
     "timestamp": 1671130558901,
     "user": {
      "displayName": "Александр Бундыч",
      "userId": "11932459224027420021"
     },
     "user_tz": -180
    },
    "id": "OK31NdZcUofp",
    "outputId": "2276e6b7-5577-4eea-9b6f-0ec6c2b226b6"
   },
   "outputs": [
    {
     "name": "stdout",
     "output_type": "stream",
     "text": [
      "\"0\" находится внутри интервала [-0.101 ; 0.33]. \n",
      "Принимаем H_0 - средние выборок равны.\n",
      "Группы равномерные и их можно использовать для дальнейшего a/b теста\n"
     ]
    }
   ],
   "source": [
    "p_diffs=pd.DataFrame(p_diffs)\n",
    "p_diffs.columns=['mean_of_metric']\n",
    "\n",
    "alpha = 0.05 #уровень значимости (вероятность ошибочно отклонить H_0)\n",
    "A = round(p_diffs['mean_of_metric'].quantile(alpha/2),3) #левая граница\n",
    "B = round(p_diffs['mean_of_metric'].quantile(1-alpha/2),3) #правая граница\n",
    "\n",
    "if A < 0 < B:\n",
    "  print(f'\"0\" находится внутри интервала [{A} ; {B}]. \\nПринимаем H_0 - средние выборок равны.\\nГруппы равномерные и их можно использовать для дальнейшего a/b теста')\n",
    "else:\n",
    "  print(f'0 находится за границей интервала [{A} ; {B}]. \\nОтвергаем H_0 - средние выборок неравны.\\nГруппы не равномерные. Необходимо пересмотреть разделение на группы')"
   ]
  }
 ],
 "metadata": {
  "colab": {
   "authorship_tag": "ABX9TyN8NVOw1QU5nYqV678vJkzF",
   "provenance": []
  },
  "kernelspec": {
   "display_name": "Python 3",
   "name": "python3"
  },
  "language_info": {
   "name": "python"
  }
 },
 "nbformat": 4,
 "nbformat_minor": 0
}
